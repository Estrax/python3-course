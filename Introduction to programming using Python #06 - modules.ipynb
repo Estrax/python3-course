{
 "cells": [
  {
   "cell_type": "markdown",
   "metadata": {
    "collapsed": true
   },
   "source": [
    "# Introduction to programming using Python"
   ]
  },
  {
   "cell_type": "markdown",
   "metadata": {},
   "source": [
    "## Modules"
   ]
  },
  {
   "cell_type": "markdown",
   "metadata": {},
   "source": [
    "The life would be much easier if we could pack all the code into the one file. But to create properly working projects without losing the maintainability, modularization is the key. It allows us to pack reusable parts of code into the files called modules. You may also want to use a function that you have written earlier without copying its definition into your future programs.\n",
    "\n",
    "Python has a way to put definitions in a file and use them in a script or in an interactive instance of the interpreter. Such file is called a module.\n",
    "\n",
    "Definitions from the module file can be imported into other modules or into the main module.\n",
    "\n",
    "A module is a file that contains Python definitions and statements. The file name is the module name with the extension **.py**.\n",
    "\n",
    "Within a module, the module's name (as a string) is available as the value of the global variable called **\\_\\_name\\_\\_**."
   ]
  },
  {
   "cell_type": "code",
   "execution_count": null,
   "metadata": {},
   "outputs": [],
   "source": [
    "# Example: importing module\n",
    "\n",
    "import math as math_lib\n",
    "\n",
    "# printing all the methods available in this module\n",
    "print(dir(math_lib))"
   ]
  },
  {
   "cell_type": "markdown",
   "metadata": {},
   "source": [
    "### Using the module name you can access the functions."
   ]
  },
  {
   "cell_type": "code",
   "execution_count": null,
   "metadata": {},
   "outputs": [],
   "source": [
    "# Example: \n",
    "print(math_lib.degrees(math_lib.pi/2))"
   ]
  },
  {
   "cell_type": "markdown",
   "metadata": {},
   "source": [
    "Most of the import methods are not entering the names of the functions defined in library directly into the current symbol table. It only enters the module name there. Using the module name you can access the functions."
   ]
  },
  {
   "cell_type": "markdown",
   "metadata": {},
   "source": [
    "A module can contain executable statements as well as function definitions. These statements are intended to initialize the module. They are executed only the first time the module name is encountered in an import statement."
   ]
  },
  {
   "cell_type": "markdown",
   "metadata": {},
   "source": [
    "Each module has its own private symbol table also called as module scope, that is used as the global symbol table by all functions defined in the module.\n",
    "\n",
    "Also, the author of the module can use global variables in the module without worrying about accidental clashes with a user's global variables.\n",
    "\n",
    "On the other hand, if you know what you are doing - you can touch all the module's global variables with the same notation used to refer to its functions - **modname.itemname**."
   ]
  },
  {
   "cell_type": "markdown",
   "metadata": {},
   "source": [
    "### Importing modules\n",
    "\n",
    "Modules can import other modules.\n",
    "It is a good convention, but absolutely not required to place all import statements at the beginning of a module (or script). The imported module names are placed in the importing module's global symbol table.\n",
    "\n",
    "There is also a variant of the import statement that imports names from a module directly into the importing module's symbol table. There is even a variant to import all the names that a module defines. You can also import everything into the current namespace/scope."
   ]
  },
  {
   "cell_type": "code",
   "execution_count": null,
   "metadata": {
    "collapsed": true
   },
   "outputs": [],
   "source": [
    "# Example:\n",
    "\n",
    "# import specific names from a module\n",
    "from math import cos, sin, e, pi\n",
    "\n",
    "# import all the names that a module defines\n",
    "from sys import *\n",
    "# this imports all names except those beginning with an underscore (_).\n",
    "# In most cases people do not use this facility\n",
    "# since it introduces an unknown set of names into the interpreter,\n",
    "# possibly hiding some things you have already defined\n",
    "\n",
    "\n",
    "# import everything into current namespace\n",
    "import os.path"
   ]
  },
  {
   "cell_type": "markdown",
   "metadata": {},
   "source": [
    "### The module search path\n",
    "\n",
    "When a module named **modulename** is imported, the interpreter first searches for a built-in module with that name.\n",
    "\n",
    "If not found, then it searches for a file named **modulename.py** in a list of directories given by the variable sys.path.\n",
    "\n",
    "sys.path is initialized from these locations:\n",
    "\n",
    "* The directory containing the input script (or the current directory when no file is specified).\n",
    "* PYTHONPATH (a list of directory names, with the same syntax as the shell variable PATH).\n",
    "* The installation-dependent default."
   ]
  },
  {
   "cell_type": "markdown",
   "metadata": {},
   "source": [
    "## Standard modules (also called: standard library / stdlib)"
   ]
  },
  {
   "cell_type": "markdown",
   "metadata": {},
   "source": [
    "Python comes with a library of standard modules. Some modules are built into the interpreter. They provide access to operations that are not the part of the core of the language. The set of those modules is a configuration option that depends on the underlying platform (such as the winreg module that is only provided on Windows).\n",
    "\n",
    "One module deserves more attention: **sys** that is built into every Python interpreter."
   ]
  },
  {
   "cell_type": "markdown",
   "metadata": {},
   "source": [
    "### The function: dir( )\n",
    "\n",
    "The built-in function **dir()** is used to find out which names are defined in the module.\n",
    "\n",
    "It returns a sorted list of strings."
   ]
  },
  {
   "cell_type": "code",
   "execution_count": null,
   "metadata": {},
   "outputs": [],
   "source": [
    "# Example:\n",
    "\n",
    "import sys\n",
    "print(dir(sys))"
   ]
  },
  {
   "cell_type": "markdown",
   "metadata": {},
   "source": [
    "Without arguments, **dir( )** function lists the names you have defined in your current scope."
   ]
  },
  {
   "cell_type": "markdown",
   "metadata": {},
   "source": [
    "Note that this function lists all types of names: variables, functions, modules, and so on."
   ]
  },
  {
   "cell_type": "markdown",
   "metadata": {},
   "source": [
    "Also, note that **dir( )** function does not list the names of built-in functions and variables.\n",
    "\n",
    "If you want to get a list of them, you can use the standard module called **builtins**."
   ]
  },
  {
   "cell_type": "code",
   "execution_count": null,
   "metadata": {},
   "outputs": [],
   "source": [
    "# Example\n",
    "import builtins\n",
    "print(dir(builtins))"
   ]
  },
  {
   "cell_type": "markdown",
   "metadata": {},
   "source": [
    "<br/><br/>"
   ]
  },
  {
   "cell_type": "markdown",
   "metadata": {},
   "source": [
    "## Packages"
   ]
  },
  {
   "cell_type": "markdown",
   "metadata": {},
   "source": [
    "Packages are a way of structuring Python modules namespaces by using **dotted module names**.\n",
    "\n",
    "For example, the module name A.B means a submodule named B in a package named A.\n",
    "\n",
    "Just like the use of modules saves the authors of different modules from worrying about each module global variable names, the use of dotted module names saves the authors of multi-module packages like NumPy or the scikit-learn from worrying about each other's module names."
   ]
  }
 ],
 "metadata": {
  "kernelspec": {
   "display_name": "Python 3",
   "language": "python",
   "name": "python3"
  },
  "language_info": {
   "codemirror_mode": {
    "name": "ipython",
    "version": 3
   },
   "file_extension": ".py",
   "mimetype": "text/x-python",
   "name": "python",
   "nbconvert_exporter": "python",
   "pygments_lexer": "ipython3",
   "version": "3.6.4"
  }
 },
 "nbformat": 4,
 "nbformat_minor": 2
}
