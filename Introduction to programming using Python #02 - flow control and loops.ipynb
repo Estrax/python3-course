{
 "cells": [
  {
   "cell_type": "markdown",
   "metadata": {},
   "source": [
    "# Introduction to programming using Python"
   ]
  },
  {
   "cell_type": "markdown",
   "metadata": {},
   "source": [
    "## Flow control and loops"
   ]
  },
  {
   "cell_type": "markdown",
   "metadata": {},
   "source": [
    "Now we are going to talk about the tools for flow control and looping things.\n",
    "\n",
    "Those ones allow us to consolidate the code used to perform repeatable operations."
   ]
  },
  {
   "cell_type": "markdown",
   "metadata": {},
   "source": [
    "<br/><br/>"
   ]
  },
  {
   "cell_type": "markdown",
   "metadata": {},
   "source": [
    "## Flow control"
   ]
  },
  {
   "cell_type": "markdown",
   "metadata": {},
   "source": [
    "One of the most widely used flow control tool is the **if** statement. It evaluates the given argument to the boolean value and then checks whether to execute the code within the code block or not."
   ]
  },
  {
   "cell_type": "code",
   "execution_count": null,
   "metadata": {},
   "outputs": [],
   "source": [
    "# Example:\n",
    "age = int(input(\"Please enter your age: \"))\n",
    "\n",
    "if age < 14:\n",
    "    print(\"You are a child!\")\n",
    "elif age < 18:\n",
    "    print(\"You are a teenager!\")\n",
    "else:\n",
    "    print(\"You are an adult!\")"
   ]
  },
  {
   "cell_type": "markdown",
   "metadata": {},
   "source": [
    "The **elif** and **else** parts are optional. It is also good to know that the number of **elif** parts can be from zero to many. The keyword **elif** is a short version of \"else if\", also used to avoid problems with indentation."
   ]
  },
  {
   "cell_type": "markdown",
   "metadata": {},
   "source": [
    "**Excercise:** write the if statement that is going to **print the absolute value of x**. Note that **you can not use the abs(n) function**."
   ]
  },
  {
   "cell_type": "code",
   "execution_count": null,
   "metadata": {
    "collapsed": true
   },
   "outputs": [],
   "source": [
    "# Here comes the code\n"
   ]
  },
  {
   "cell_type": "markdown",
   "metadata": {},
   "source": [
    "### Nested statements"
   ]
  },
  {
   "cell_type": "markdown",
   "metadata": {},
   "source": [
    "You can also have your if statements nested, if needed. The code from given block is executed only, when the outer statement is being evaluated to true."
   ]
  },
  {
   "cell_type": "code",
   "execution_count": null,
   "metadata": {},
   "outputs": [],
   "source": [
    "# Example:\n",
    "\n",
    "number_of_angles = 4\n",
    "\n",
    "if number_of_angles > 3:\n",
    "    if number_of_angles < 5:\n",
    "        print(\"You have a tetragon!\")"
   ]
  },
  {
   "cell_type": "markdown",
   "metadata": {},
   "source": [
    "### Compound statements\n",
    "\n",
    "A compound statement occurs when at least two conditions occurs before you want to execute your code.\n",
    "\n",
    "You can also rewrite the above example to use compound statements. The whole statement must evaluate to true. You can also use parentheses, but it is not required."
   ]
  },
  {
   "cell_type": "code",
   "execution_count": null,
   "metadata": {},
   "outputs": [],
   "source": [
    "# Example:\n",
    "number_of_angles = 4\n",
    "\n",
    "if number_of_angles > 3 and number_of_angles < 5:\n",
    "    print(\"You have a tetragon!\")"
   ]
  },
  {
   "cell_type": "markdown",
   "metadata": {},
   "source": [
    "**Excercise:** rewrite the following if-statements to make it easier to read."
   ]
  },
  {
   "cell_type": "code",
   "execution_count": null,
   "metadata": {},
   "outputs": [],
   "source": [
    "values = [0, 4, 9, 25, 64, 81]\n",
    "\n",
    "if values[0] == 0:\n",
    "    if values[1] > 0:\n",
    "        if values[2] < 10:\n",
    "            if values[3]%2 == 0:\n",
    "                pass\n",
    "            else:\n",
    "                if values[4] is not 63 and values[4] is not 65:\n",
    "                    if values[5] is False:\n",
    "                        pass\n",
    "                    else:\n",
    "                        print(\"it works!\")"
   ]
  },
  {
   "cell_type": "code",
   "execution_count": null,
   "metadata": {
    "collapsed": true
   },
   "outputs": [],
   "source": [
    "# Here comes the code\n"
   ]
  },
  {
   "cell_type": "markdown",
   "metadata": {},
   "source": [
    "<br/><br/>"
   ]
  },
  {
   "cell_type": "markdown",
   "metadata": {},
   "source": [
    "## Loops"
   ]
  },
  {
   "cell_type": "markdown",
   "metadata": {},
   "source": [
    "In software development, there are few types of loops and things around it. They are the tools to develop parts of code that needs to be repeated, without breaking the DRY rule (Don't Repeat Yourself)."
   ]
  },
  {
   "cell_type": "markdown",
   "metadata": {},
   "source": [
    "This course is going to cover **for** loops and **while** loops."
   ]
  },
  {
   "cell_type": "markdown",
   "metadata": {},
   "source": [
    "### While loop\n",
    "\n",
    "Syntax:\n",
    "\n",
    "**while (statement):**\n",
    "    \n",
    "    code\n",
    "    \n",
    "It is being executed as long as the **statement** is true. The statement can contain many logical sentences, as long as it all can be evaluated to the boolean."
   ]
  },
  {
   "cell_type": "code",
   "execution_count": null,
   "metadata": {},
   "outputs": [],
   "source": [
    "# Example:\n",
    "i = 0\n",
    "j = False\n",
    "\n",
    "while i < 5:\n",
    "    print(i)\n",
    "    i += 1\n",
    "\n",
    "print(\"and the compound statements:\")\n",
    "    \n",
    "while i > 0 and not j:\n",
    "    print(i)\n",
    "    i -= 1"
   ]
  },
  {
   "cell_type": "markdown",
   "metadata": {},
   "source": [
    "**Excercise:** write the **while** loop that iterates over all integer elements from **start** value to **stop** value and prints values **divisible by step** value **and** at the same time **divisible by the step+46** value **and** that **truncated division of it and (step+7)** value **is less than 200**.\n",
    "\n",
    "Do not change the values of following variables:\n",
    "- step\n",
    "- start\n",
    "- stop"
   ]
  },
  {
   "cell_type": "code",
   "execution_count": null,
   "metadata": {
    "collapsed": true
   },
   "outputs": [],
   "source": [
    "step = 11\n",
    "start = int(step*2.5)\n",
    "stop = int(500*step*3.14)\n",
    "\n",
    "# Here comes the code\n",
    "\n",
    "\n",
    "\n",
    "\n",
    "\n",
    "\n",
    "# the result should be equal to:\n",
    "#\n",
    "# 627\n",
    "# 1254\n",
    "# 1881\n",
    "# 2508\n",
    "# 3135"
   ]
  },
  {
   "cell_type": "code",
   "execution_count": null,
   "metadata": {
    "collapsed": true
   },
   "outputs": [],
   "source": [
    "# Solution:\n",
    "# \n",
    "# i = start\n",
    "# \n",
    "# while i < stop:\n",
    "#     if i%step==0 and i%(step+46)==0 and i//(step+7) < 200:\n",
    "#         print(i)\n",
    "#     i += 1"
   ]
  },
  {
   "cell_type": "markdown",
   "metadata": {},
   "source": [
    "<br/><br/>"
   ]
  },
  {
   "cell_type": "markdown",
   "metadata": {},
   "source": [
    "### For loop\n",
    "\n",
    "The **for loop** in Python is different than in other programming languages like C++, C# or Java. Rather than giving the user the ability to define the iteration step and halting condition, in Python **for** statement iterates over the items of any sequence in the order they appear in this sequence."
   ]
  },
  {
   "cell_type": "code",
   "execution_count": null,
   "metadata": {},
   "outputs": [],
   "source": [
    "# Example:\n",
    "\n",
    "animals = [\"cat\", \"dog\", \"elephant\", \"tiger\", \"pig\", \"bird\", \"horse\"]\n",
    "\n",
    "for animal in animals:\n",
    "    print(animal)"
   ]
  },
  {
   "cell_type": "markdown",
   "metadata": {},
   "source": [
    "**Excercise:** write a for loop that iterates over the elements in the **copy of animals array** and prints the animals that names are at least 5 characters long."
   ]
  },
  {
   "cell_type": "code",
   "execution_count": null,
   "metadata": {
    "collapsed": true
   },
   "outputs": [],
   "source": [
    "# Here comes the code\n"
   ]
  },
  {
   "cell_type": "markdown",
   "metadata": {},
   "source": [
    "<br/><br/>"
   ]
  },
  {
   "cell_type": "markdown",
   "metadata": {},
   "source": [
    "### Range function\n",
    "\n",
    "In Python, there is a function to generate the arithmetic progressions, called **range()**.\n",
    "\n",
    "Syntax:\n",
    "\n",
    "**range(start, stop, step)**\n",
    "\n",
    "start and step values are optional. The default value for start is 0, the default value for step is 1.\n",
    "\n",
    "The start value is included in the range, the stop value is not."
   ]
  },
  {
   "cell_type": "code",
   "execution_count": null,
   "metadata": {},
   "outputs": [],
   "source": [
    "# Example:\n",
    "\n",
    "for i in range(10):\n",
    "    print(i)"
   ]
  },
  {
   "cell_type": "code",
   "execution_count": null,
   "metadata": {},
   "outputs": [],
   "source": [
    "# Example:\n",
    "\n",
    "for i in range(5, 20, 3):\n",
    "    print(i)"
   ]
  },
  {
   "cell_type": "code",
   "execution_count": null,
   "metadata": {},
   "outputs": [],
   "source": [
    "# You can also use range() with list() to generate the list from iterables.\n",
    "# Example:\n",
    "\n",
    "elements = list(range(20))\n",
    "\n",
    "elements"
   ]
  },
  {
   "cell_type": "markdown",
   "metadata": {},
   "source": [
    "<br/><br/>"
   ]
  },
  {
   "cell_type": "markdown",
   "metadata": {},
   "source": [
    "### Break statement\n",
    "\n",
    "Break statement breaks out of the innermost enclosing for or while loop."
   ]
  },
  {
   "cell_type": "code",
   "execution_count": null,
   "metadata": {},
   "outputs": [],
   "source": [
    "# Example:\n",
    "\n",
    "elements = list(range(10000))\n",
    "\n",
    "for i in elements:\n",
    "    if i==5:\n",
    "        print(\"Leave the for loop alone!\")\n",
    "        break\n",
    "    print(i)"
   ]
  },
  {
   "cell_type": "markdown",
   "metadata": {},
   "source": [
    "<br/><br/>"
   ]
  },
  {
   "cell_type": "markdown",
   "metadata": {},
   "source": [
    "### Continue statement\n",
    "\n",
    "The continue statement continues with the next iteration of the loop."
   ]
  },
  {
   "cell_type": "code",
   "execution_count": null,
   "metadata": {},
   "outputs": [],
   "source": [
    "# Example:\n",
    "\n",
    "for i in range(10, 20):\n",
    "    if i % 5 == 0:\n",
    "        print(\"The number {} is divisible by 5.\".format(i))\n",
    "        continue\n",
    "    print(\"Now we have the number {} that is not divisible by 5.\".format(i))"
   ]
  },
  {
   "cell_type": "markdown",
   "metadata": {},
   "source": [
    "<br/><br/>"
   ]
  },
  {
   "cell_type": "markdown",
   "metadata": {},
   "source": [
    "### Using else clauses on loops\n",
    "\n",
    "The **else clauses** on loops have more in common with try-catch operations (more about it during the exceptions lecture). It is being executed when the loop finishes and was not being terminated earlier by the **break** condition."
   ]
  },
  {
   "cell_type": "code",
   "execution_count": null,
   "metadata": {},
   "outputs": [],
   "source": [
    "# Example:\n",
    "\n",
    "for num in range(2, 200):\n",
    "    for x in range(2, num):\n",
    "        if num%x == 0:\n",
    "            print('{} equals {} * {}'.format(num, x, num//x))\n",
    "            break\n",
    "    else:\n",
    "        print('{} is a prime number!'.format(num))"
   ]
  },
  {
   "cell_type": "markdown",
   "metadata": {},
   "source": [
    "**Excercise:** write the loop that prints only the prime numbers."
   ]
  },
  {
   "cell_type": "code",
   "execution_count": null,
   "metadata": {
    "collapsed": true
   },
   "outputs": [],
   "source": [
    "# Here comes the code\n"
   ]
  },
  {
   "cell_type": "markdown",
   "metadata": {},
   "source": [
    "<br/><br/>"
   ]
  },
  {
   "cell_type": "markdown",
   "metadata": {},
   "source": [
    "### The pass statement\n",
    "\n",
    "The pass statement does **nothing**. It can be used when a statement is required syntactically but the program requires no action."
   ]
  },
  {
   "cell_type": "code",
   "execution_count": null,
   "metadata": {
    "collapsed": true
   },
   "outputs": [],
   "source": [
    "# Example:\n",
    "\n",
    "for i in range(20):\n",
    "    pass"
   ]
  }
 ],
 "metadata": {
  "kernelspec": {
   "display_name": "Python 3",
   "language": "python",
   "name": "python3"
  },
  "language_info": {
   "codemirror_mode": {
    "name": "ipython",
    "version": 3
   },
   "file_extension": ".py",
   "mimetype": "text/x-python",
   "name": "python",
   "nbconvert_exporter": "python",
   "pygments_lexer": "ipython3",
   "version": "3.6.4"
  }
 },
 "nbformat": 4,
 "nbformat_minor": 2
}
