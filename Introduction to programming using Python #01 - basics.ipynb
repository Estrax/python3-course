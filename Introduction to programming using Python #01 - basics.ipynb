{
 "cells": [
  {
   "cell_type": "markdown",
   "metadata": {},
   "source": [
    "# Introduction to programming using Python"
   ]
  },
  {
   "cell_type": "markdown",
   "metadata": {},
   "source": [
    "## Basics"
   ]
  },
  {
   "cell_type": "markdown",
   "metadata": {},
   "source": [
    "(Remember: to run the code, select cell and push shift+enter)"
   ]
  },
  {
   "cell_type": "markdown",
   "metadata": {},
   "source": [
    "### Variables"
   ]
  },
  {
   "cell_type": "markdown",
   "metadata": {},
   "source": [
    "Variable is a symbolic name associated with a value and whose associated value may be changed."
   ]
  },
  {
   "cell_type": "markdown",
   "metadata": {},
   "source": [
    "The simplest way to create a variable is to put its name and associate a value with it."
   ]
  },
  {
   "cell_type": "code",
   "execution_count": null,
   "metadata": {
    "collapsed": true
   },
   "outputs": [],
   "source": [
    "# Example:\n",
    "a = 5"
   ]
  },
  {
   "cell_type": "markdown",
   "metadata": {},
   "source": [
    "Now you can use this variable in your code!"
   ]
  },
  {
   "cell_type": "code",
   "execution_count": null,
   "metadata": {
    "collapsed": true
   },
   "outputs": [],
   "source": [
    "# Example:\n",
    "print(a)"
   ]
  },
  {
   "cell_type": "markdown",
   "metadata": {},
   "source": [
    "**Excercise:** declare 10 variables. Assign different values to them, including numbers, fractions, text, booleans."
   ]
  },
  {
   "cell_type": "code",
   "execution_count": null,
   "metadata": {
    "collapsed": true
   },
   "outputs": [],
   "source": [
    "# Here comes the code\n"
   ]
  },
  {
   "cell_type": "markdown",
   "metadata": {},
   "source": [
    "### What are the popular data types?"
   ]
  },
  {
   "cell_type": "markdown",
   "metadata": {},
   "source": [
    "Python numbers variables can be created using the standard method:"
   ]
  },
  {
   "cell_type": "code",
   "execution_count": null,
   "metadata": {
    "collapsed": true
   },
   "outputs": [],
   "source": [
    "variable = 123"
   ]
  },
  {
   "cell_type": "markdown",
   "metadata": {},
   "source": [
    "Most of the time, using standard Python number type is totally fine. Python will automatically convert a number from one type to another when needed.\n",
    "\n",
    "Under certain circumstances, when a specific number type is needed (i.e. complex), the format can be forced into a format using additional syntax.\n",
    "\n",
    "| Type | Format | Description |\n",
    "|-----|-----|-----|\n",
    "| int |\ta = 123 | signed integer - can also be represented in octal and hexadecimal |\n",
    "| float | a = 1.23 | (.) floating point real values |\n",
    "| complex | a = 1+23J | (J) complex number |\n",
    "\t \t \t \t \t \t \n",
    "Most of the time Python will do variable conversion automatically. You can also use Python conversion functions (int(), float(), complex()) to convert data from one type to another. In addition, the type function returns information about how your data is stored within a variable.\n",
    "\n",
    "In Python 2, there was one more variable type - long - ending with L (like: `a = 123L`) - used to store longer numbers than the 32-bit int. In Python 3 it was replaced by 64-bit integers."
   ]
  },
  {
   "cell_type": "code",
   "execution_count": null,
   "metadata": {
    "collapsed": true
   },
   "outputs": [],
   "source": [
    "# int\n",
    "a = 123\n",
    "# float\n",
    "b = 1.23\n",
    "# complex\n",
    "c = 1000+2003j"
   ]
  },
  {
   "cell_type": "code",
   "execution_count": null,
   "metadata": {
    "collapsed": true
   },
   "outputs": [],
   "source": [
    "# Check the types\n",
    "print(type(a))\n",
    "print(type(b))\n",
    "print(type(c))"
   ]
  },
  {
   "cell_type": "markdown",
   "metadata": {},
   "source": [
    "### Strings"
   ]
  },
  {
   "cell_type": "markdown",
   "metadata": {
    "collapsed": true
   },
   "source": [
    "You can create string variables by enclosing characters in quotes.\n",
    "To denote literal strings, Python uses:\n",
    "- single quotes '\n",
    "- double quotes \"\n",
    "- triple quotes \"\"\"\n",
    "\n",
    "Only the triple quoted strings \"\"\" will automatically continue across the end of line statement."
   ]
  },
  {
   "cell_type": "code",
   "execution_count": null,
   "metadata": {
    "collapsed": true
   },
   "outputs": [],
   "source": [
    "# Example:\n",
    "firstName = 'Jan'\n",
    "lastName = \"Kowalski\"\n",
    "message = \"\"\"This is the string that will span across multiple lines. Using newline characters\n",
    "and no spaces for the next lines. The end of lines within this string also count as a newline when printed!\"\"\"\n",
    "\n",
    "print(firstName)\n",
    "print(lastName)\n",
    "print(message)"
   ]
  },
  {
   "cell_type": "markdown",
   "metadata": {},
   "source": [
    "**Excercise:** declare two strings and assign your name and surname to them. Then, create the third variable and assign a result of concatenation of those two strings."
   ]
  },
  {
   "cell_type": "code",
   "execution_count": null,
   "metadata": {
    "collapsed": true
   },
   "outputs": [],
   "source": [
    "# Here comes the code\n"
   ]
  },
  {
   "cell_type": "markdown",
   "metadata": {
    "collapsed": true
   },
   "source": [
    "### Lists"
   ]
  },
  {
   "cell_type": "markdown",
   "metadata": {},
   "source": [
    "There are a number of compound data types that can be used to group values together.\n",
    "One of the most versatile ones is the list, that can be written as a list of comma-separated values between square brackets. Even though usually all the items in list are the same type, lists in Python can contain items of different types."
   ]
  },
  {
   "cell_type": "code",
   "execution_count": null,
   "metadata": {
    "collapsed": true
   },
   "outputs": [],
   "source": [
    "# Example:\n",
    "numbers = [0, 1, 2, 3, 4, 5, 6, 7, 8, 9, 10, 11, 12, 13, 14, 15, 16, 17, 18, 19, 20]\n",
    "numbers"
   ]
  },
  {
   "cell_type": "markdown",
   "metadata": {},
   "source": [
    "To be sure that we are working with the list, let's check the type:"
   ]
  },
  {
   "cell_type": "code",
   "execution_count": null,
   "metadata": {
    "collapsed": true,
    "scrolled": true
   },
   "outputs": [],
   "source": [
    "type(numbers)"
   ]
  },
  {
   "cell_type": "code",
   "execution_count": null,
   "metadata": {
    "collapsed": true
   },
   "outputs": [],
   "source": [
    "# Example: a list that contains two different data types\n",
    "my_new_list = [123, \"abc\"]\n",
    "print(type(my_new_list))\n",
    "print(type(my_new_list[0]))\n",
    "print(type(my_new_list[1]))"
   ]
  },
  {
   "cell_type": "markdown",
   "metadata": {},
   "source": [
    "How to put your hands on elements of the list? Just use the square brackets. Remember, that they are indexed starting from 0."
   ]
  },
  {
   "cell_type": "code",
   "execution_count": null,
   "metadata": {
    "collapsed": true
   },
   "outputs": [],
   "source": [
    "numbers[0]"
   ]
  },
  {
   "cell_type": "markdown",
   "metadata": {},
   "source": [
    "**Excercise:** declare a new list that contains following informations: your name and your lucky number. Then, on the next line, modify your lucky number."
   ]
  },
  {
   "cell_type": "code",
   "execution_count": null,
   "metadata": {
    "collapsed": true
   },
   "outputs": [],
   "source": [
    "# Here comes the code\n"
   ]
  },
  {
   "cell_type": "markdown",
   "metadata": {},
   "source": [
    "### Those are the basic data types. More of them will be presented during the \"Data Structures\" lecture."
   ]
  },
  {
   "cell_type": "markdown",
   "metadata": {},
   "source": [
    "<br/><br/><br/>"
   ]
  },
  {
   "cell_type": "markdown",
   "metadata": {},
   "source": [
    "## Operators"
   ]
  },
  {
   "cell_type": "markdown",
   "metadata": {},
   "source": [
    "Operators allow to **perform operations** on our variables, as well as on data structures."
   ]
  },
  {
   "cell_type": "markdown",
   "metadata": {},
   "source": [
    "Some of them give different results when used on the different data type."
   ]
  },
  {
   "cell_type": "markdown",
   "metadata": {},
   "source": [
    "## Operators for all the numeric types"
   ]
  },
  {
   "cell_type": "markdown",
   "metadata": {},
   "source": [
    "There are plenty of operators for numeric types of data. Some of them allow for: addition, subtraction, multiplication, division, calculating powers, and so on."
   ]
  },
  {
   "cell_type": "markdown",
   "metadata": {},
   "source": [
    "### Addition operator (x+y)\n",
    "\n",
    "A binary operator (requires two elements to perform an action). Returns the number that is a sum of the elements."
   ]
  },
  {
   "cell_type": "code",
   "execution_count": null,
   "metadata": {
    "collapsed": true
   },
   "outputs": [],
   "source": [
    "# Example:\n",
    "2 + 3"
   ]
  },
  {
   "cell_type": "code",
   "execution_count": null,
   "metadata": {
    "collapsed": true
   },
   "outputs": [],
   "source": [
    "# can be also done that way:\n",
    "x = 2\n",
    "y = 3\n",
    "\n",
    "x += y # returns the sum of x and y and assigns it to x\n",
    "# it is equal to x = x+y\n",
    "\n",
    "print(x)"
   ]
  },
  {
   "cell_type": "markdown",
   "metadata": {},
   "source": [
    "### Subtraction operator (x-y)\n",
    "\n",
    "A binary operator (requires two elements to perform an action). Returns the number that is a result of subtraction of the elements."
   ]
  },
  {
   "cell_type": "code",
   "execution_count": null,
   "metadata": {
    "collapsed": true
   },
   "outputs": [],
   "source": [
    "# Example:\n",
    "2/3 - 1/2"
   ]
  },
  {
   "cell_type": "code",
   "execution_count": null,
   "metadata": {
    "collapsed": true
   },
   "outputs": [],
   "source": [
    "# can be also done that way:\n",
    "x = 10\n",
    "y = 7\n",
    "\n",
    "x -= y # returns the subtraction of x and y and assigns it to x\n",
    "# it is equal to x = x-y\n",
    "\n",
    "print(x)"
   ]
  },
  {
   "cell_type": "markdown",
   "metadata": {},
   "source": [
    "### Multiplication operator (x*y)\n",
    "\n",
    "A binary operator (requires two elements to perform an action). Returns the number that is a result of multiplication of the elements."
   ]
  },
  {
   "cell_type": "code",
   "execution_count": null,
   "metadata": {
    "collapsed": true
   },
   "outputs": [],
   "source": [
    "# Example:\n",
    "2.5 * 3.5"
   ]
  },
  {
   "cell_type": "code",
   "execution_count": null,
   "metadata": {
    "collapsed": true
   },
   "outputs": [],
   "source": [
    "# can be also done that way:\n",
    "x = 2\n",
    "y = 3\n",
    "\n",
    "x *= y # returns the multiplication of x and y and assigns it to x\n",
    "# it is equal to x = x*y\n",
    "\n",
    "print(x)"
   ]
  },
  {
   "cell_type": "markdown",
   "metadata": {},
   "source": [
    "### Division operator (x/y)\n",
    "\n",
    "A binary operator (requires two elements to perform an action). Returns the number that is a result of division of the elements."
   ]
  },
  {
   "cell_type": "code",
   "execution_count": null,
   "metadata": {
    "collapsed": true
   },
   "outputs": [],
   "source": [
    "# Example:\n",
    "5 / 2"
   ]
  },
  {
   "cell_type": "code",
   "execution_count": null,
   "metadata": {
    "collapsed": true
   },
   "outputs": [],
   "source": [
    "# can be also done that way:\n",
    "x = 15\n",
    "y = 2\n",
    "\n",
    "x /= y # returns the division of x and y and assigns it to x\n",
    "# it is equal to x = x/y\n",
    "\n",
    "print(x)"
   ]
  },
  {
   "cell_type": "markdown",
   "metadata": {},
   "source": [
    "### Truncating division operator (x//y)\n",
    "\n",
    "A binary operator (requires two elements to perform an action). Returns the number that is a result of truncating division (also called the integer division) of the elements."
   ]
  },
  {
   "cell_type": "code",
   "execution_count": null,
   "metadata": {
    "collapsed": true
   },
   "outputs": [],
   "source": [
    "# Example:\n",
    "10 // 4"
   ]
  },
  {
   "cell_type": "code",
   "execution_count": null,
   "metadata": {
    "collapsed": true
   },
   "outputs": [],
   "source": [
    "# can be also done that way:\n",
    "x = 15\n",
    "y = 2\n",
    "\n",
    "x //= y # returns the truncating division of x and y and assigns it to x\n",
    "# it is equal to x = x//y\n",
    "\n",
    "print(x)"
   ]
  },
  {
   "cell_type": "markdown",
   "metadata": {},
   "source": [
    "### Power operator (x**y)\n",
    "\n",
    "A binary operator (requires two elements to perform an action). Returns the number **x** raised to the power of **y**."
   ]
  },
  {
   "cell_type": "code",
   "execution_count": null,
   "metadata": {
    "collapsed": true
   },
   "outputs": [],
   "source": [
    "# Example:\n",
    "2 ** 10"
   ]
  },
  {
   "cell_type": "code",
   "execution_count": null,
   "metadata": {
    "collapsed": true
   },
   "outputs": [],
   "source": [
    "# can be also done that way:\n",
    "x = 2\n",
    "y = 9\n",
    "\n",
    "x **= y # returns the power of x and y and assigns it to x\n",
    "# it is equal to x = x**y\n",
    "\n",
    "print(x)"
   ]
  },
  {
   "cell_type": "markdown",
   "metadata": {},
   "source": [
    "### Modulo operator (x%y)\n",
    "\n",
    "A binary operator (requires two elements to perform an action). Returns the remainder after division of the elements."
   ]
  },
  {
   "cell_type": "code",
   "execution_count": null,
   "metadata": {
    "collapsed": true
   },
   "outputs": [],
   "source": [
    "# Example:\n",
    "21 % 8"
   ]
  },
  {
   "cell_type": "code",
   "execution_count": null,
   "metadata": {
    "collapsed": true
   },
   "outputs": [],
   "source": [
    "# can be also done that way:\n",
    "x = 25\n",
    "y = 7\n",
    "\n",
    "x %= y # returns the modulo of x and y and assigns it to x\n",
    "# it is equal to x = x%y\n",
    "\n",
    "print(x)"
   ]
  },
  {
   "cell_type": "markdown",
   "metadata": {},
   "source": [
    "### Minus operator (-x)\n",
    "\n",
    "An unary operator (requires only one element to perform an action). Returns the negation of the number."
   ]
  },
  {
   "cell_type": "code",
   "execution_count": null,
   "metadata": {
    "collapsed": true
   },
   "outputs": [],
   "source": [
    "# Example:\n",
    "result = 5\n",
    "result = -result\n",
    "result"
   ]
  },
  {
   "cell_type": "markdown",
   "metadata": {},
   "source": [
    "### Plus operator\n",
    "\n",
    "An unary operator (requires only one element to perform an action). Indicates the positive value (numbers are positive even without this)"
   ]
  },
  {
   "cell_type": "code",
   "execution_count": null,
   "metadata": {
    "collapsed": true
   },
   "outputs": [],
   "source": [
    "# Example:\n",
    "result = 5\n",
    "result = +result\n",
    "result"
   ]
  },
  {
   "cell_type": "markdown",
   "metadata": {},
   "source": [
    "**Excercise:** using only the things you already learned:\n",
    "- calculate the square root of 25\n",
    "- calculate the discriminant of a polynomial equation (the quadriatic one, also called delta)\n",
    "- calculate the sum of 5 next negative integers, starting from -10 (and going upper)\n",
    "- check whether the number 14884 is divisible by 67\n",
    "- **calculate how many canadian cups of coffee (canadian cup = 227 ml) will be required to fill in the olympic-size swimming pool (typical dimensions: length: 50m, width: 25m, depth: 3m)**"
   ]
  },
  {
   "cell_type": "code",
   "execution_count": null,
   "metadata": {
    "collapsed": true
   },
   "outputs": [],
   "source": [
    "# Here comes the code\n"
   ]
  },
  {
   "cell_type": "markdown",
   "metadata": {},
   "source": [
    "<br/><br/>"
   ]
  },
  {
   "cell_type": "markdown",
   "metadata": {},
   "source": [
    "## Operators for integers and long integers (ONLY!)"
   ]
  },
  {
   "cell_type": "markdown",
   "metadata": {},
   "source": [
    "### Left bitwise shift operator (x<<y)\n",
    "\n",
    "A binary operator (requires two elements to perform an action). Returns the number x after left bit shift for the y places."
   ]
  },
  {
   "cell_type": "code",
   "execution_count": null,
   "metadata": {
    "collapsed": true
   },
   "outputs": [],
   "source": [
    "# Example:\n",
    "print(bin(3))\n",
    "print(bin(2))\n",
    "print(bin(3<<2), \"=\", (3<<2))"
   ]
  },
  {
   "cell_type": "code",
   "execution_count": null,
   "metadata": {
    "collapsed": true
   },
   "outputs": [],
   "source": [
    "# can be also done that way:\n",
    "x = 3\n",
    "y = 2\n",
    "\n",
    "x <<= y # returns the left bitwise shift of x and y and assigns it to x\n",
    "# it is equal to x = x<<y\n",
    "\n",
    "print(x)"
   ]
  },
  {
   "cell_type": "markdown",
   "metadata": {},
   "source": [
    "### Right bitwise shift operator (x>>y)\n",
    "\n",
    "A binary operator (requires two elements to perform an action). Returns the number x after right bit shift for the y places."
   ]
  },
  {
   "cell_type": "code",
   "execution_count": null,
   "metadata": {
    "collapsed": true
   },
   "outputs": [],
   "source": [
    "# Example:\n",
    "print(bin(15))\n",
    "print(bin(1))\n",
    "print(bin(15>>1), \"=\", (15>>1))"
   ]
  },
  {
   "cell_type": "code",
   "execution_count": null,
   "metadata": {
    "collapsed": true
   },
   "outputs": [],
   "source": [
    "# can be also done that way:\n",
    "x = 15\n",
    "y = 1\n",
    "\n",
    "x >>= y # returns the right bitwise shift of x and y and assigns it to x\n",
    "# it is equal to x = x>>y\n",
    "\n",
    "print(x)"
   ]
  },
  {
   "cell_type": "markdown",
   "metadata": {},
   "source": [
    "### Bitwise AND operator (x&y)\n",
    "\n",
    "A binary operator (requires two elements to perform an action). Returns the number created by executing AND operation on bits."
   ]
  },
  {
   "cell_type": "code",
   "execution_count": null,
   "metadata": {
    "collapsed": true
   },
   "outputs": [],
   "source": [
    "# Example:\n",
    "print(bin(10))\n",
    "print(bin(9))\n",
    "print(bin(10&9), \"=\", (10&9))"
   ]
  },
  {
   "cell_type": "code",
   "execution_count": null,
   "metadata": {
    "collapsed": true
   },
   "outputs": [],
   "source": [
    "# can be also done that way:\n",
    "x = 10\n",
    "y = 9\n",
    "\n",
    "x &= y # returns the AND of x and y and assigns it to x\n",
    "# it is equal to x = x&y\n",
    "\n",
    "print(x)"
   ]
  },
  {
   "cell_type": "markdown",
   "metadata": {},
   "source": [
    "### Bitwise OR operator (x|y)\n",
    "\n",
    "A binary operator (requires two elements to perform an action). Returns the number created by executing OR operation on bits."
   ]
  },
  {
   "cell_type": "code",
   "execution_count": null,
   "metadata": {
    "collapsed": true
   },
   "outputs": [],
   "source": [
    "# Example:\n",
    "print(bin(16))\n",
    "print(bin(15))\n",
    "print(bin(16|15), \"=\", (16|15))\n",
    "\n",
    "print(bin(16|16), \"=\", (16|16))"
   ]
  },
  {
   "cell_type": "code",
   "execution_count": null,
   "metadata": {
    "collapsed": true
   },
   "outputs": [],
   "source": [
    "# can be also done that way:\n",
    "x = 16\n",
    "y = 15\n",
    "\n",
    "x |= y # returns the OR of x and y and assigns it to x\n",
    "# it is equal to x = x|y\n",
    "\n",
    "print(x)"
   ]
  },
  {
   "cell_type": "markdown",
   "metadata": {},
   "source": [
    "### Bitwise XOR operator (x^y)\n",
    "\n",
    "A binary operator (requires two elements to perform an action). Returns the number created by executing XOR operation on bits."
   ]
  },
  {
   "cell_type": "code",
   "execution_count": null,
   "metadata": {
    "collapsed": true
   },
   "outputs": [],
   "source": [
    "# Example:\n",
    "print(bin(7))\n",
    "print(bin(5))\n",
    "print(bin(7^5), \"=\", (7^5))"
   ]
  },
  {
   "cell_type": "code",
   "execution_count": null,
   "metadata": {
    "collapsed": true
   },
   "outputs": [],
   "source": [
    "# can be also done that way:\n",
    "x = 7\n",
    "y = 5\n",
    "\n",
    "x ^= y # returns the XOR of x and y and assigns it to x\n",
    "# it is equal to x = x^y\n",
    "\n",
    "print(x)"
   ]
  },
  {
   "cell_type": "markdown",
   "metadata": {},
   "source": [
    "### Bitwise negation operator (~x)\n",
    "\n",
    "An unary operator (requires only one element to perform an action). Returns the number created by negation of all the bits."
   ]
  },
  {
   "cell_type": "code",
   "execution_count": null,
   "metadata": {
    "collapsed": true
   },
   "outputs": [],
   "source": [
    "# Example:\n",
    "print(bin(7))\n",
    "print(bin(~7))"
   ]
  },
  {
   "cell_type": "markdown",
   "metadata": {},
   "source": [
    "<br/><br/>"
   ]
  },
  {
   "cell_type": "markdown",
   "metadata": {},
   "source": [
    "## Built-in functions for all numeric types"
   ]
  },
  {
   "cell_type": "markdown",
   "metadata": {},
   "source": [
    "There are four basic built-in functions that can be used on all the numeric data types."
   ]
  },
  {
   "cell_type": "markdown",
   "metadata": {},
   "source": [
    "### Absolute value: abs(x)\n",
    "\n",
    "Returns the absolute value of the number x."
   ]
  },
  {
   "cell_type": "code",
   "execution_count": null,
   "metadata": {
    "collapsed": true
   },
   "outputs": [],
   "source": [
    "# Example:\n",
    "print(abs(10))\n",
    "print(abs(-3))"
   ]
  },
  {
   "cell_type": "markdown",
   "metadata": {},
   "source": [
    "### Quotient and remainder of division: divmod(x, y)\n",
    "\n",
    "Returns the tuple that contains the quotient (**x // y**) and the remainder of division (**x % y**)."
   ]
  },
  {
   "cell_type": "code",
   "execution_count": null,
   "metadata": {
    "collapsed": true
   },
   "outputs": [],
   "source": [
    "# Example:\n",
    "divmod(7, 3)"
   ]
  },
  {
   "cell_type": "markdown",
   "metadata": {},
   "source": [
    "### Power: pow(x, y) - extended version: pow(x, y, modulo)\n",
    "\n",
    "Returns the number **x** raised to the power **y**. The extended version of this function returns the remainder of division of the number **x** raised to the power **y** and the number called **modulo**."
   ]
  },
  {
   "cell_type": "code",
   "execution_count": null,
   "metadata": {
    "collapsed": true
   },
   "outputs": [],
   "source": [
    "# Example:\n",
    "print(pow(2, 3))\n",
    "print(pow(5, 2, 7))"
   ]
  },
  {
   "cell_type": "markdown",
   "metadata": {},
   "source": [
    "### Round: round(x) - extended version: round(x, n)\n",
    "\n",
    "Returns the number **x** rounded to the nearest number with the precision of **pow(10, -n)**"
   ]
  },
  {
   "cell_type": "code",
   "execution_count": null,
   "metadata": {
    "collapsed": true
   },
   "outputs": [],
   "source": [
    "# Example:\n",
    "print(round(5.45))\n",
    "print(round(5.51))\n",
    "print(round(5.45, 1))\n",
    "print(round(2.455, 2))"
   ]
  },
  {
   "cell_type": "markdown",
   "metadata": {},
   "source": [
    "<br/><br/>"
   ]
  },
  {
   "cell_type": "markdown",
   "metadata": {},
   "source": [
    "## Operators that return boolean values - comparison operators"
   ]
  },
  {
   "cell_type": "markdown",
   "metadata": {},
   "source": [
    "### x < y\n",
    "\n",
    "Returns **true** if **x** is **less than y**, otherwise **false**."
   ]
  },
  {
   "cell_type": "code",
   "execution_count": null,
   "metadata": {
    "collapsed": true
   },
   "outputs": [],
   "source": [
    "# Example:\n",
    "x = 2\n",
    "y = 3\n",
    "\n",
    "x < y"
   ]
  },
  {
   "cell_type": "markdown",
   "metadata": {},
   "source": [
    "### x > y\n",
    "\n",
    "Returns **true** if **x** is **bigger than y**, otherwise **false**."
   ]
  },
  {
   "cell_type": "code",
   "execution_count": null,
   "metadata": {
    "collapsed": true
   },
   "outputs": [],
   "source": [
    "x > y"
   ]
  },
  {
   "cell_type": "markdown",
   "metadata": {},
   "source": [
    "### x == y\n",
    "\n",
    "Returns **true** if **x is equal to y**, otherwise **false**."
   ]
  },
  {
   "cell_type": "code",
   "execution_count": null,
   "metadata": {
    "collapsed": true
   },
   "outputs": [],
   "source": [
    "x == y"
   ]
  },
  {
   "cell_type": "markdown",
   "metadata": {},
   "source": [
    "### x != y\n",
    "\n",
    "Returns **true** if **x is not equal to y**, otherwise **false**."
   ]
  },
  {
   "cell_type": "code",
   "execution_count": null,
   "metadata": {
    "collapsed": true
   },
   "outputs": [],
   "source": [
    "x != y"
   ]
  },
  {
   "cell_type": "markdown",
   "metadata": {},
   "source": [
    "### x >= y\n",
    "\n",
    "Returns **true** if **x is bigger than or equal to y**, otherwise **false**."
   ]
  },
  {
   "cell_type": "code",
   "execution_count": null,
   "metadata": {
    "collapsed": true
   },
   "outputs": [],
   "source": [
    "x >= y"
   ]
  },
  {
   "cell_type": "markdown",
   "metadata": {},
   "source": [
    "### x <= y\n",
    "\n",
    "Returns **true** if **x is less than or equal to y**, otherwise **false**."
   ]
  },
  {
   "cell_type": "code",
   "execution_count": null,
   "metadata": {
    "collapsed": true
   },
   "outputs": [],
   "source": [
    "x <= y"
   ]
  },
  {
   "cell_type": "markdown",
   "metadata": {},
   "source": [
    "### Chained expressions\n",
    "\n",
    "You can chain the comparisons to evaluate multiple expressions."
   ]
  },
  {
   "cell_type": "code",
   "execution_count": null,
   "metadata": {
    "collapsed": true
   },
   "outputs": [],
   "source": [
    "x = 2\n",
    "y = 3\n",
    "z = 4\n",
    "\n",
    "x < y < z"
   ]
  },
  {
   "cell_type": "markdown",
   "metadata": {},
   "source": [
    "<br/><br/>"
   ]
  },
  {
   "cell_type": "markdown",
   "metadata": {},
   "source": [
    "## Operations on sequences\n",
    "\n",
    "There are some operations that are really useful when you are working with sequences. But what are the sequences? They are the structures like strings, lists, tuples, sets and so on."
   ]
  },
  {
   "cell_type": "markdown",
   "metadata": {},
   "source": [
    "<br/><br/>"
   ]
  },
  {
   "cell_type": "markdown",
   "metadata": {},
   "source": [
    "## Basic operations on strings, lists and tuples"
   ]
  },
  {
   "cell_type": "markdown",
   "metadata": {},
   "source": [
    "### Concatenation: (structure1 + structure2)\n",
    "\n",
    "Returns the new object that is a concatenation of two strings, lists or tuples."
   ]
  },
  {
   "cell_type": "code",
   "execution_count": null,
   "metadata": {
    "collapsed": true
   },
   "outputs": [],
   "source": [
    "# Example:\n",
    "list_a = [0, 2, 4, 6, 8, 10, 12, 14, 16, 18]\n",
    "list_b = [1, 3, 5, 7, 9, 11, 13, 15, 17, 19]\n",
    "\n",
    "list_a + list_b"
   ]
  },
  {
   "cell_type": "markdown",
   "metadata": {},
   "source": [
    "### Making N copies of S\n",
    "\n",
    "This operation returns an object containing N copies of S, where N is an integer."
   ]
  },
  {
   "cell_type": "code",
   "execution_count": null,
   "metadata": {
    "collapsed": true
   },
   "outputs": [],
   "source": [
    "# Example:\n",
    "2 * list_a"
   ]
  },
  {
   "cell_type": "code",
   "execution_count": null,
   "metadata": {
    "collapsed": true
   },
   "outputs": [],
   "source": [
    "# Second example:\n",
    "list_b * 3"
   ]
  },
  {
   "cell_type": "markdown",
   "metadata": {},
   "source": [
    "### String formatting\n",
    "\n",
    "This operation allows for string formatting. More about it in the \"strings\" part."
   ]
  },
  {
   "cell_type": "code",
   "execution_count": null,
   "metadata": {
    "collapsed": true
   },
   "outputs": [],
   "source": [
    "# Example:\n",
    "\n",
    "# the old way:\n",
    "print(\"%s is the best friend of %s\" % (\"John\", \"Patrick\"))\n",
    "\n",
    "# the new, better way:\n",
    "print(\"{1} is the best friend of {0}\".format(\"John\", \"Patrick\"))"
   ]
  },
  {
   "cell_type": "markdown",
   "metadata": {},
   "source": [
    "### Indexing\n",
    "\n",
    "This operation allows for an access to specific element of sequence - and it uses the square brackets. Remember, that the indexes are starting from 0."
   ]
  },
  {
   "cell_type": "code",
   "execution_count": null,
   "metadata": {
    "collapsed": true
   },
   "outputs": [],
   "source": [
    "# Example:\n",
    "my_new_list = [2, 4, 7, 11, 5, 3]\n",
    "\n",
    "print(my_new_list[3]) # element with index 3, the fourth element of the sequence\n",
    "\n",
    "# in Python you can also use the negative index - it returns the elements starting from the last one in sequence.\n",
    "print(my_new_list[-2])"
   ]
  },
  {
   "cell_type": "markdown",
   "metadata": {},
   "source": [
    "### Slicing\n",
    "\n",
    "This operation allows for getting the slices of the sequence.\n",
    "\n",
    "Syntax: **[start : stop : steps]**\n",
    "\n",
    "Remember that the element used as **stop** parameter is not being included in the slice of sequence."
   ]
  },
  {
   "cell_type": "code",
   "execution_count": null,
   "metadata": {
    "collapsed": true
   },
   "outputs": [],
   "source": [
    "# Example:\n",
    "\n",
    "my_list = [0, 1, 2, 3, 4, 5, 6, 7, 8, 9, 10, 11, 12, 13, 14, 15, 16, 17, 18, 19, 20, 21, 22, 23, 24, 25, 26, 27, 28, 29, 30, 31, 32, 33, 34, 35, 36, 37, 38, 39, 40, 41, 42, 43, 44, 45, 46, 47, 48, 49]\n",
    "\n",
    "# print sequence elements from the element with index 5 to 10\n",
    "print(my_list[5:10])\n",
    "\n",
    "# print every second number from 0 to 20 (the number 20 not included)\n",
    "print(my_list[0:20:2])\n",
    "\n",
    "# you can also make a copy of the sequence object with slicing\n",
    "my_list_2 = my_list[:]\n",
    "\n",
    "# to check if it is a copy and not a reference to the previous sequence, we will modify one of the elements\n",
    "my_list_2[0] = -100\n",
    "\n",
    "# and now let's print it and check if it works\n",
    "print(my_list)\n",
    "print(my_list_2)"
   ]
  },
  {
   "cell_type": "markdown",
   "metadata": {},
   "source": [
    "### Check membership: x in S, x not in S\n",
    "\n",
    "This operation allows to check whether the **x** is a member of **S**.\n",
    "\n",
    "Returns **true** if the element **x is in the sequence S**, otherwise **false**."
   ]
  },
  {
   "cell_type": "code",
   "execution_count": null,
   "metadata": {
    "collapsed": true
   },
   "outputs": [],
   "source": [
    "# Example:\n",
    "x = 7\n",
    "y = [0, 1, 2, 3, 4, 5, 6, 7, 8]\n",
    "\n",
    "x in y"
   ]
  },
  {
   "cell_type": "markdown",
   "metadata": {},
   "source": [
    "### You can also iterate over all the elements in the sequence\n",
    "\n",
    "Use the **for variable in sequence** syntax. More info about it during the \"Flow control and loops\" lecture."
   ]
  },
  {
   "cell_type": "code",
   "execution_count": null,
   "metadata": {
    "collapsed": true
   },
   "outputs": [],
   "source": [
    "# Example:\n",
    "my_list = [1, 2, 3, 4, 5, 6, 7, 8]\n",
    "\n",
    "for x in my_list:\n",
    "    print(x)"
   ]
  },
  {
   "cell_type": "markdown",
   "metadata": {},
   "source": [
    "### Length: len(sequence)\n",
    "\n",
    "This function allows to get the length of the sequence."
   ]
  },
  {
   "cell_type": "code",
   "execution_count": null,
   "metadata": {
    "collapsed": true
   },
   "outputs": [],
   "source": [
    "# Example:\n",
    "\n",
    "len(my_list)"
   ]
  },
  {
   "cell_type": "markdown",
   "metadata": {},
   "source": [
    "### Minimum and maximum items in sequence: min(sequence), max(sequence)\n",
    "\n",
    "This functions allow to find the minimum and maximum values in the sequence."
   ]
  },
  {
   "cell_type": "code",
   "execution_count": null,
   "metadata": {
    "collapsed": true
   },
   "outputs": [],
   "source": [
    "print(min(my_list))\n",
    "print(max(my_list))"
   ]
  },
  {
   "cell_type": "markdown",
   "metadata": {},
   "source": [
    "<br/><br/>"
   ]
  },
  {
   "cell_type": "markdown",
   "metadata": {},
   "source": [
    "## Strings and tuples are immutable, so you cannot change them directly - you need to return the new one...\n",
    "## ... but on the lists, you can perform several actions:"
   ]
  },
  {
   "cell_type": "markdown",
   "metadata": {},
   "source": [
    "### Index assignment: sequence[i] = x\n",
    "\n",
    "This action allows for **assigning the x value** to the **i-th element** of the sequence."
   ]
  },
  {
   "cell_type": "code",
   "execution_count": null,
   "metadata": {
    "collapsed": true
   },
   "outputs": [],
   "source": [
    "# Example:\n",
    "my_list = [-1, 1, 2, 3, 4, 5]\n",
    "\n",
    "# remember, that the indexing is starting from 0\n",
    "my_list[0] = 0\n",
    "\n",
    "my_list"
   ]
  },
  {
   "cell_type": "markdown",
   "metadata": {},
   "source": [
    "### Slice assignment: sequence[i : j] = seq_x\n",
    "\n",
    "This action allows for assigning the sequence **seq_x** to the slice of sequence between indexes **i and j**."
   ]
  },
  {
   "cell_type": "code",
   "execution_count": null,
   "metadata": {
    "collapsed": true
   },
   "outputs": [],
   "source": [
    "# Example:\n",
    "my_new_list = [2, 4, 6, 8, 10]\n",
    "my_list[1:6] = my_new_list\n",
    "my_list"
   ]
  },
  {
   "cell_type": "markdown",
   "metadata": {},
   "source": [
    "### Extended slice assignment: sequence[i : j : stride] = seq_x\n",
    "\n",
    "This action is an extended version of the classical slice assignment. It allows to replace the elements that are n-th elements of the slice."
   ]
  },
  {
   "cell_type": "code",
   "execution_count": null,
   "metadata": {
    "collapsed": true
   },
   "outputs": [],
   "source": [
    "# Example:\n",
    "my_list = [1, 2, 3, 4, 5, 6, 7, 8, 9, 10]\n",
    "my_new_list = [-1, -2, -3, -4, -5]\n",
    "\n",
    "my_list[0:10:2] = my_new_list\n",
    "my_list"
   ]
  },
  {
   "cell_type": "markdown",
   "metadata": {},
   "source": [
    "### Delete element: del sequence[i]\n",
    "\n",
    "This action removes the i-th element of sequence. It also removes the item from the scope."
   ]
  },
  {
   "cell_type": "code",
   "execution_count": null,
   "metadata": {
    "collapsed": true
   },
   "outputs": [],
   "source": [
    "# Example:\n",
    "\n",
    "print(my_list)\n",
    "del my_list[0]\n",
    "print(my_list)"
   ]
  },
  {
   "cell_type": "markdown",
   "metadata": {},
   "source": [
    "### Delete a slice: del sequence[i : j]\n",
    "\n",
    "Like the classical delete statement, this one deletes a whole slice."
   ]
  },
  {
   "cell_type": "code",
   "execution_count": null,
   "metadata": {
    "collapsed": true
   },
   "outputs": [],
   "source": [
    "# Example:\n",
    "print(my_list)\n",
    "del my_list[0:5]\n",
    "print(my_list)\n",
    "\n",
    "# you can also use an extended slice\n",
    "my_list = [1, 2, 3, 4, 5, 6, 7, 8, 9, 10]\n",
    "print(my_list)\n",
    "del my_list[0:10:2]\n",
    "print(my_list)"
   ]
  },
  {
   "cell_type": "markdown",
   "metadata": {},
   "source": [
    "**Excercise:** declare a list that contains all integers from 1 to 10 (inclusive). Then, delete every third element, starting from 5."
   ]
  },
  {
   "cell_type": "code",
   "execution_count": null,
   "metadata": {
    "collapsed": true
   },
   "outputs": [],
   "source": [
    "# Here comes the code\n"
   ]
  },
  {
   "cell_type": "markdown",
   "metadata": {},
   "source": [
    "<br/><br/>"
   ]
  },
  {
   "cell_type": "markdown",
   "metadata": {},
   "source": [
    "## Type conversion"
   ]
  },
  {
   "cell_type": "markdown",
   "metadata": {},
   "source": [
    "To perform specific operations, you need your data to be the proper type. In some cases, you need to convert them from the one type to another."
   ]
  },
  {
   "cell_type": "markdown",
   "metadata": {},
   "source": [
    "### Conversion to int: int(x, base)\n",
    "\n",
    "The param base is optional in most cases. It is required when converting the expression from string to int. It also works the same with long and long long numbers (in Python 3, respectively: int 64-bit and int 128-bit)."
   ]
  },
  {
   "cell_type": "code",
   "execution_count": null,
   "metadata": {
    "collapsed": true
   },
   "outputs": [],
   "source": [
    "# Example:\n",
    "variable = 2.5\n",
    "variable_2 = int(variable)\n",
    "print(variable, \" --- \", variable_2)"
   ]
  },
  {
   "cell_type": "code",
   "execution_count": null,
   "metadata": {
    "collapsed": true
   },
   "outputs": [],
   "source": [
    "# Example:\n",
    "variable = \"0b1011\" # the binary number: 11\n",
    "variable_2 = int(variable, 2)\n",
    "print(variable, \" --- \", variable_2)"
   ]
  },
  {
   "cell_type": "markdown",
   "metadata": {},
   "source": [
    "### Conversion to float: float(x)\n",
    "\n",
    "It works nearly the same as for the integers. It takes only one argument: the number you want to convert to float and returns the float."
   ]
  },
  {
   "cell_type": "code",
   "execution_count": null,
   "metadata": {
    "collapsed": true
   },
   "outputs": [],
   "source": [
    "# Example:\n",
    "variable = 7\n",
    "variable_2 = float(variable)\n",
    "print(variable, \" --- \", variable_2, \" <--- \", type(variable_2))"
   ]
  },
  {
   "cell_type": "markdown",
   "metadata": {},
   "source": [
    "### Conversion to complex numbers: complex(real), also possible to include the imaginary part: complex(real, imaginary)\n",
    "\n",
    "Returns the given number converted to the complex number."
   ]
  },
  {
   "cell_type": "code",
   "execution_count": null,
   "metadata": {
    "collapsed": true
   },
   "outputs": [],
   "source": [
    "# Example:\n",
    "variable = 7\n",
    "variable_2 = complex(variable)\n",
    "\n",
    "print(variable_2, type(variable_2))\n",
    "\n",
    "variable_3 = complex(variable, -variable)\n",
    "print(variable_3, type(variable_3))"
   ]
  },
  {
   "cell_type": "markdown",
   "metadata": {},
   "source": [
    "### Conversion to string: str(variable)\n",
    "\n",
    "Returns the variable converted to string."
   ]
  },
  {
   "cell_type": "code",
   "execution_count": null,
   "metadata": {
    "collapsed": true
   },
   "outputs": [],
   "source": [
    "# Example:\n",
    "variable = 123\n",
    "variable_2 = 2.5\n",
    "variable_3 = 22/7\n",
    "variable_4 = \"123\"\n",
    "\n",
    "print(type(variable), \", \", type(variable_2), \", \", type(variable_3), \", \", type(variable_4))\n",
    "variable_5 = str(variable) + str(variable_2) + str(variable_3) + variable_4\n",
    "print(variable_5, \" --- \", type(variable_5))"
   ]
  },
  {
   "cell_type": "markdown",
   "metadata": {},
   "source": [
    "### Representation string and evaluation of strings\n",
    "\n",
    "Function repr(x) converts an object x to an expression string.\n",
    "\n",
    "Function eval(string) evaluates a string and returns an object."
   ]
  },
  {
   "cell_type": "code",
   "execution_count": null,
   "metadata": {
    "collapsed": true
   },
   "outputs": [],
   "source": [
    "# Example:\n",
    "print(repr(5))\n",
    "\n",
    "# isn't it giving the same result as str(variable)?\n",
    "# NO.\n",
    "# the str() and repr() functions return different results.\n",
    "# repr() typically creates an expression string that can be evaluated with eval() to re-create the object.\n",
    "# On the other hand, str() produces a concise or nicely formatted representation of the object (and is used by the print statement)\n",
    "\n",
    "variable = eval(\"3, 5, 6\")\n",
    "variable"
   ]
  },
  {
   "cell_type": "markdown",
   "metadata": {},
   "source": [
    "### Conversion to data structures\n",
    "\n",
    "The data can be also converted to different data structures to allow for performing specific operations. Some of them are tuples, lists, dictionaries and sets. More about those data structures during the \"Data Structures\" lecture."
   ]
  },
  {
   "cell_type": "markdown",
   "metadata": {},
   "source": [
    "### Convert to tuple: tuple(sequence)\n",
    "\n",
    "Returns the sequence converted to the tuple."
   ]
  },
  {
   "cell_type": "code",
   "execution_count": null,
   "metadata": {
    "collapsed": true
   },
   "outputs": [],
   "source": [
    "# Example:\n",
    "my_list = [1, 2, 3]\n",
    "\n",
    "print(my_list, \" --- \", type(my_list))\n",
    "\n",
    "my_tuple = tuple(my_list)\n",
    "\n",
    "print(my_tuple, \" --- \", type(my_tuple))"
   ]
  },
  {
   "cell_type": "markdown",
   "metadata": {},
   "source": [
    "### Convert to list: list(sequence) or set: set(sequence)\n",
    "\n",
    "Returns the sequence converted to the list or set."
   ]
  },
  {
   "cell_type": "code",
   "execution_count": null,
   "metadata": {
    "collapsed": true
   },
   "outputs": [],
   "source": [
    "# Example:\n",
    "var_1 = 1\n",
    "var_2 = 2\n",
    "var_3 = 3\n",
    "\n",
    "my_tuple = (var_1, var_2, var_3)\n",
    "\n",
    "my_list = list(my_tuple)\n",
    "print(my_list, \" --- \", type(my_list))\n",
    "\n",
    "my_set = set(my_tuple)\n",
    "print(my_set, \" --- \", type(my_set))"
   ]
  },
  {
   "cell_type": "markdown",
   "metadata": {},
   "source": [
    "### Convert to dictionary: dict(d)\n",
    "\n",
    "Returns the d converted to dictionary. Note that **d** must be a sequence of **(key, value) tuples**."
   ]
  },
  {
   "cell_type": "code",
   "execution_count": null,
   "metadata": {
    "collapsed": true
   },
   "outputs": [],
   "source": [
    "# Example:\n",
    "my_tuples_list = [(\"a\", 1), (\"b\", 2)]\n",
    "\n",
    "my_dict = dict(my_tuples_list)\n",
    "print(my_dict, \" --- \", type(my_dict), \" --- \", my_dict[\"a\"])"
   ]
  },
  {
   "cell_type": "markdown",
   "metadata": {},
   "source": [
    "### Convert to characters: chr(x)\n",
    "\n",
    "Returns the char formed by creating an int x to char."
   ]
  },
  {
   "cell_type": "code",
   "execution_count": null,
   "metadata": {
    "collapsed": true
   },
   "outputs": [],
   "source": [
    "# Example:\n",
    "variable = 65\n",
    "character = chr(variable)\n",
    "\n",
    "print(character)"
   ]
  },
  {
   "cell_type": "markdown",
   "metadata": {},
   "source": [
    "### Convert single character to the integer value: ord(c)\n",
    "\n",
    "Returns the integer converted from character."
   ]
  },
  {
   "cell_type": "code",
   "execution_count": null,
   "metadata": {
    "collapsed": true
   },
   "outputs": [],
   "source": [
    "# Example:\n",
    "character = 'B'\n",
    "variable = ord(character)\n",
    "\n",
    "print(character, \" ---\", type(character), \" --- \", variable, \" --- \", type(variable))"
   ]
  },
  {
   "cell_type": "markdown",
   "metadata": {},
   "source": [
    "### Convert int to strings: bin(x), hex(x), oct(x)\n",
    "\n",
    "Returns the strings: respectively the binary string, hexadecimal string and the octal string from the given integer."
   ]
  },
  {
   "cell_type": "code",
   "execution_count": null,
   "metadata": {
    "collapsed": true
   },
   "outputs": [],
   "source": [
    "# Example:\n",
    "\n",
    "print(bin(14))\n",
    "print(hex(171))\n",
    "print(oct(81))"
   ]
  },
  {
   "cell_type": "markdown",
   "metadata": {},
   "source": [
    "<br/><br/>"
   ]
  },
  {
   "cell_type": "markdown",
   "metadata": {},
   "source": [
    "## Boolean expressions"
   ]
  },
  {
   "cell_type": "markdown",
   "metadata": {},
   "source": [
    "They are being used widely in software development, especially in flow control and loops."
   ]
  },
  {
   "cell_type": "markdown",
   "metadata": {},
   "source": [
    "### Basic boolean expressions:\n",
    "\n",
    "**AND** - (at least) binary expression, returns **True** when all of the factors are evaluated to true, **False** otherwise.\n",
    "\n",
    "**OR** - (at least) binary expression, returns **True** when at least one of the factors are evaluated to true, **False** otherwise.\n",
    "\n",
    "**NOT** - unary expression, returns the opposite value (if the expression is evaluated to True, it returns False)\n",
    "\n",
    "They can be chained to get complex expressions."
   ]
  },
  {
   "cell_type": "code",
   "execution_count": null,
   "metadata": {
    "collapsed": true
   },
   "outputs": [],
   "source": [
    "# Example:\n",
    "\n",
    "print(True and False)\n",
    "print(True or False)\n",
    "print(not True)\n",
    "print(True and not False)"
   ]
  },
  {
   "cell_type": "markdown",
   "metadata": {},
   "source": [
    "**Excercise:** modify the value of variables below to open the door."
   ]
  },
  {
   "cell_type": "code",
   "execution_count": null,
   "metadata": {
    "collapsed": true
   },
   "outputs": [],
   "source": [
    "# Here comes the code\n",
    "\n",
    "you_have_the_key = False\n",
    "you_have_your_smart_unlocker = False\n",
    "the_door_are_locked = True\n",
    "you_are_more_than_1_meter_to_the_door = True\n",
    "\n",
    "if((you_have_the_key or you_have_your_smart_unlocker) and not you_are_more_than_1_meter_to_the_door):\n",
    "    if(the_door_are_locked):\n",
    "        print(\"The key opens the door!\")\n",
    "        the_door_are_locked = False\n",
    "    else:\n",
    "        print(\"Not needed to open the door. Let's lock it.\")\n",
    "        the_door_are_locked = True\n",
    "else:\n",
    "    print(\"Door locked!\")"
   ]
  },
  {
   "cell_type": "markdown",
   "metadata": {},
   "source": [
    "<br/><br/>"
   ]
  },
  {
   "cell_type": "markdown",
   "metadata": {},
   "source": [
    "## Object equality and identity"
   ]
  },
  {
   "cell_type": "markdown",
   "metadata": {},
   "source": [
    "Sometimes you just need to check whether the objects are the equal or identical. Especially with the processes such as authentication and authorization. Python has some great tools to do it."
   ]
  },
  {
   "cell_type": "markdown",
   "metadata": {},
   "source": [
    "### Equality check: x == y\n",
    "\n",
    "If they are equal, evaluate to the same object or have equal keys and values."
   ]
  },
  {
   "cell_type": "code",
   "execution_count": null,
   "metadata": {
    "collapsed": true
   },
   "outputs": [],
   "source": [
    "# Example:\n",
    "list_1 = [1, 2, 3]\n",
    "list_2 = [1, 2, 3]\n",
    "\n",
    "# The order DOES matter.\n",
    "\n",
    "print(list_1 == list_2)"
   ]
  },
  {
   "cell_type": "markdown",
   "metadata": {},
   "source": [
    "### Identity check: x is y, x is not y\n",
    "\n",
    "It tests if they refer to the same object in memory."
   ]
  },
  {
   "cell_type": "code",
   "execution_count": null,
   "metadata": {
    "collapsed": true
   },
   "outputs": [],
   "source": [
    "# Example:\n",
    "list_1 = [1, 2, 3]\n",
    "list_2 = [1, 2, 3]\n",
    "\n",
    "print(list_1 is list_2)\n",
    "# but they are the same type and have the same length, as well as all of the elements\n",
    "print(type(list_1) is type(list_2))\n",
    "\n",
    "# even if you make a copy, there are not identical as they are in the different place in the memory\n",
    "print(list_1[:] is not list_2[:])"
   ]
  },
  {
   "cell_type": "markdown",
   "metadata": {},
   "source": [
    "<br/><br/>"
   ]
  },
  {
   "cell_type": "markdown",
   "metadata": {},
   "source": [
    "## Object containment"
   ]
  },
  {
   "cell_type": "markdown",
   "metadata": {},
   "source": [
    "Sometimes you also need to check whether the given object contains the other one. Python has a great tool to do this."
   ]
  },
  {
   "cell_type": "code",
   "execution_count": null,
   "metadata": {
    "collapsed": true
   },
   "outputs": [],
   "source": [
    "# Example:\n",
    "list_1 = [1, 2, 3, 4, 5, 6, 7, 8, 9, 10]\n",
    "element = 7\n",
    "element_2 = 11\n",
    "\n",
    "# check whether the list_1 contains the element and element_2 - it returns the boolean value\n",
    "print(element in list_1)\n",
    "print(element_2 in list_1)"
   ]
  },
  {
   "cell_type": "markdown",
   "metadata": {},
   "source": [
    "The object containment operator can be also used in looping - to iterate over all the elements in the collection. More about loops during the control flow and loops lecture."
   ]
  },
  {
   "cell_type": "code",
   "execution_count": null,
   "metadata": {
    "collapsed": true
   },
   "outputs": [],
   "source": [
    "# Example:\n",
    "list_1 = [1, 2, 3, 4, 5, 6, 7, 8, 9, 10]\n",
    "\n",
    "for x in list_1:\n",
    "    print(x)"
   ]
  },
  {
   "cell_type": "markdown",
   "metadata": {},
   "source": [
    "<br/><br/>"
   ]
  },
  {
   "cell_type": "markdown",
   "metadata": {},
   "source": [
    "## Order of evaluation\n",
    "\n",
    "Below is the order of evaluation of expressions. The higher on the list it is, the earlier it is going to be executed."
   ]
  },
  {
   "cell_type": "markdown",
   "metadata": {},
   "source": [
    "1. (…)[…]{…} - tuple, list and dict creation\n",
    "2. \\`…\\` string conversion\n",
    "3. s[I], s[i:j] indexing and slicing\n",
    "4. S.attr attributes\n",
    "5. f(…) function calls\n",
    "6. +x, -x ~x unary operators\n",
    "7. x**y power right associative\n",
    "8. x*y, x/y, x//y, x%y multiplication, division, floor, modulo\n",
    "9. x+y, x-y addition and subtraction\n",
    "10. x<<y, x>>y bit-shifting\n",
    "11. x&y bitwise and\n",
    "12. x^y bitwise XOR\n",
    "13. x|y Bitwise or\n",
    "14. x<y, x<=y, x>y, x>=y - comparison, identity and sequence membership\n",
    "15. x==y, x!=y\n",
    "16. x<>y\n",
    "17. x is y, x is not y\n",
    "18. x in S, x not in S\n",
    "19. Not X logical negation\n",
    "20. x and y logical and\n",
    "21. x or y logical or\n",
    "22. Lambda args: expr anonymous function"
   ]
  },
  {
   "cell_type": "markdown",
   "metadata": {},
   "source": [
    "<br/><br/>"
   ]
  },
  {
   "cell_type": "markdown",
   "metadata": {},
   "source": [
    "## Strings formatting"
   ]
  },
  {
   "cell_type": "markdown",
   "metadata": {},
   "source": [
    "Sometimes you need to print the results of your computation or include some of them in strings. Instead of using string concatenation multiple times, you can format the string. It is also useful when you want to set the precision of numbers or set the padding."
   ]
  },
  {
   "cell_type": "code",
   "execution_count": null,
   "metadata": {
    "collapsed": true
   },
   "outputs": [],
   "source": [
    "# Example:\n",
    "\n",
    "# you can format it that way\n",
    "string = \"I am {0} years old\"\n",
    "your_age = 18\n",
    "print(string.format(your_age))\n",
    "\n",
    "# you can use multiple elements to format your string\n",
    "string = \"My three favorite colors are: {}, {} and {}\"\n",
    "colors = (\"red\", \"blue\", \"green\")\n",
    "print(string.format(colors[0], colors[1], colors[2]))"
   ]
  },
  {
   "cell_type": "markdown",
   "metadata": {},
   "source": [
    "### Enhanced formatting"
   ]
  },
  {
   "cell_type": "code",
   "execution_count": null,
   "metadata": {
    "collapsed": true
   },
   "outputs": [],
   "source": [
    "# Example:\n",
    "\n",
    "# you can also format your strings without assigning it to the variable\n",
    "print(\"This is my {}\".format(\"string\"))\n",
    "\n",
    "# there are several options for specifying types when formatting - respectively string, decimal integer and float with precision level = 2\n",
    "string = \"My name is {:s} and I am {:d} years old. The number PI is approximately {:.2f}\".format(\"John\", 25, 3.14159265359)\n",
    "print(string)\n",
    "\n",
    "# the parameters {:s}"
   ]
  },
  {
   "cell_type": "markdown",
   "metadata": {},
   "source": [
    "**The available string presentation types are:**\n",
    "1. 's' - String format. This is the default type for strings and may be omitted.\n",
    "2. None - The same as 's'.\n",
    "\n",
    "**The available integer presentation types are:**\n",
    "1. 'b' - Binary format. Outputs the number in base 2.\n",
    "2. 'c' - Character. Converts the integer to the corresponding unicode character before printing.\n",
    "3. 'd' - Decimal Integer. Outputs the number in base 10.\n",
    "4. 'o' - Octal format. Outputs the number in base 8.\n",
    "5. 'x' - Hex format. Outputs the number in base 16, using lower- case letters for the digits above 9.\n",
    "6. 'X' - Hex format. Outputs the number in base 16, using upper- case letters for the digits above 9.\n",
    "7. 'n' - Number. This is the same as 'd', except that it uses the current locale setting to insert the appropriate number separator characters.\n",
    "8. None - The same as 'd'.\n",
    "\n",
    "In addition to the above presentation types, integers can be formatted with the floating point presentation types listed below (except 'n' and None). When doing so, float() is used to convert the integer to a floating point number before formatting.\n",
    "\n",
    "**The available presentation types for floating point and decimal values are:**\n",
    "1. 'e' - Exponent notation. Prints the number in scientific notation using the letter ‘e’ to indicate the exponent. The default precision is 6.\n",
    "2. 'E' - Exponent notation. Same as 'e' except it uses an upper case ‘E’ as the separator character.\n",
    "3. 'f' - Fixed point. Displays the number as a fixed-point number. The default precision is 6.\n",
    "4. 'F' - Fixed point. Same as 'f', but converts nan to NAN and inf to INF.\n",
    "5. 'g' - General format. For a given precision p >= 1, this rounds the number to p significant digits and then formats the result in either fixed-point format or in scientific notation, depending on its magnitude. A precision of 0 is treated as equivalent to a precision of 1. The default precision is 6.\n",
    "6. 'G' - General format. Same as 'g' except switches to 'E' if the number gets too large. The representations of infinity and NaN are uppercased, too.\n",
    "7. 'n' - Number. This is the same as 'g', except that it uses the current locale setting to insert the appropriate number separator characters.\n",
    "8. '%' - Percentage. Multiplies the number by 100 and displays in fixed ('f') format, followed by a percent sign.\n",
    "9. None - Similar to 'g', except that fixed-point notation, when used, has at least one digit past the decimal point. The default precision is as high as needed to represent the particular value. The overall effect is to match the output of str() as altered by the other format modifiers."
   ]
  },
  {
   "cell_type": "markdown",
   "metadata": {},
   "source": [
    "### Strings padding\n",
    "\n",
    "You can use padding in your strings to reserve the proper space for your sentences."
   ]
  },
  {
   "cell_type": "code",
   "execution_count": null,
   "metadata": {
    "collapsed": true
   },
   "outputs": [],
   "source": [
    "# Example:\n",
    "print(\"{0:5}\".format(5))\n",
    "\n",
    "# the next thing you need to know is the alignment operator. It can have one of the three values: <, ^ and >\n",
    "print(\"The text can be aligned {0:<10}, {1:^25} or {2:>25}\".format(\"to the left\", \"it can be centered\", \"aligned to the right\"))\n",
    "\n",
    "# you can also fill all the empty spaces created by padding with a specified character\n",
    "print(\"This is my {0:*^25}\".format(\"sentence\"))"
   ]
  },
  {
   "cell_type": "markdown",
   "metadata": {},
   "source": [
    "**Excercise:** write a string that uses padding to generate a basic triangle from stars ( **\\*** ). You can use **\\n** to jump to the next line."
   ]
  },
  {
   "cell_type": "code",
   "execution_count": null,
   "metadata": {
    "collapsed": true
   },
   "outputs": [],
   "source": [
    "# Here comes the code\n"
   ]
  }
 ],
 "metadata": {
  "kernelspec": {
   "display_name": "Python 3",
   "language": "python",
   "name": "python3"
  },
  "language_info": {
   "codemirror_mode": {
    "name": "ipython",
    "version": 3
   },
   "file_extension": ".py",
   "mimetype": "text/x-python",
   "name": "python",
   "nbconvert_exporter": "python",
   "pygments_lexer": "ipython3",
   "version": "3.6.4"
  }
 },
 "nbformat": 4,
 "nbformat_minor": 2
}
