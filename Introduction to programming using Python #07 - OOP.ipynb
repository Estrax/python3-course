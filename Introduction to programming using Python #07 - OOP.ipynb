{
 "cells": [
  {
   "cell_type": "markdown",
   "metadata": {
    "collapsed": true
   },
   "source": [
    "# Introduction to programming using Python"
   ]
  },
  {
   "cell_type": "markdown",
   "metadata": {},
   "source": [
    "## Object-Oriented Programming"
   ]
  },
  {
   "cell_type": "markdown",
   "metadata": {},
   "source": [
    "In software development, one of the most important paradigms is Object-Oriented Programming (OOP). It allows to provide the data and functionalities together.\n",
    "\n",
    "You can bring it to your code with classes.\n",
    "\n",
    "Creating a new class creates a new type of object, allowing new instances of that type to be made.\n",
    "\n",
    "Each class instance can have attributes attached to it for maintaining its state.\n",
    "\n",
    "Class instances can also have methods (defined by its class) for modifying its state."
   ]
  },
  {
   "cell_type": "markdown",
   "metadata": {},
   "source": [
    "Objects have individuality and multiple names (in multiple scopes) can be bound to the same object.\n",
    "\n",
    "This is also known as aliasing in other programming languages and usually not appreciated on a first glance at Python.\n",
    "It can be safely ignored when dealing with immutable basic types (numbers, strings, tuples).\n",
    "\n",
    "On the other hand, aliasing has a possibly surprising effect on the semantics of Python code involving mutable objects such as lists, dictionaries, and most other types. This is usually used to the benefit of the program, since aliases behave like pointers in some respects.\n",
    "\n",
    "For example, passing an object is cheap since only a pointer is passed by the implementation. If a function modifies an object passed as an argument, the caller will see the change — this eliminates the need for two different argument passing mechanisms as in other programming languages such as C++."
   ]
  },
  {
   "cell_type": "markdown",
   "metadata": {},
   "source": [
    "## Scopes and namespaces\n",
    "\n",
    "The scopes and namespaces restricts an access to the informations."
   ]
  },
  {
   "cell_type": "code",
   "execution_count": null,
   "metadata": {},
   "outputs": [],
   "source": [
    "# Example:\n",
    "def scopes():\n",
    "    def work_locally():\n",
    "        message = \"local message\"\n",
    "\n",
    "    def work_non_locally():\n",
    "        nonlocal message\n",
    "        message = \"non-local message\"\n",
    "\n",
    "    def work_globally():\n",
    "        global message\n",
    "        message = \"global message\"\n",
    "\n",
    "    message = \"test message\"\n",
    "    work_locally()\n",
    "    print(\"After local assignment:\", message)\n",
    "    work_non_locally()\n",
    "    print(\"After nonlocal assignment:\", message)\n",
    "    work_globally()\n",
    "    print(\"After global assignment:\", message)\n",
    "\n",
    "scopes()\n",
    "print(\"In global scope:\", message)"
   ]
  },
  {
   "cell_type": "markdown",
   "metadata": {},
   "source": [
    "<br/><br/>"
   ]
  },
  {
   "cell_type": "markdown",
   "metadata": {},
   "source": [
    "## Class definition"
   ]
  },
  {
   "cell_type": "markdown",
   "metadata": {},
   "source": [
    "Class definitions, like function definitions (**def** statements) must be executed before they have any effect."
   ]
  },
  {
   "cell_type": "code",
   "execution_count": null,
   "metadata": {
    "collapsed": true
   },
   "outputs": [],
   "source": [
    "# class definition\n",
    "\n",
    "class MyClass:\n",
    "    \"\"\"this is the docstring for my simple example class\"\"\"\n",
    "    variable = 123\n",
    "    second_variable = \"a string\"\n",
    "    \n",
    "    def my_func(self):\n",
    "        return 'this is the value'"
   ]
  },
  {
   "cell_type": "markdown",
   "metadata": {},
   "source": [
    "MyClass.variable, MyClass.second_variable and MyClass.my_func are valid attribute references, returning an integer, a string and a function object, respectively.\n",
    "\n",
    "Class attributes can also be assigned to, so you can change the value of MyClass.variable by assignment.\n",
    "\n",
    "**\\_\\_doc\\_\\_** is also a valid attribute, returning the docstring belonging to the class: \"this is the docstring for my simple example class\"."
   ]
  },
  {
   "cell_type": "markdown",
   "metadata": {},
   "source": [
    "### Class instantiation\n",
    "\n",
    "Class instantiation uses function notation. Just pretend that the class object is a parameterless function that returns a new instance of the class."
   ]
  },
  {
   "cell_type": "code",
   "execution_count": null,
   "metadata": {},
   "outputs": [],
   "source": [
    "# Example:\n",
    "\n",
    "class_instance = MyClass()\n",
    "\n",
    "# it creates a new instance of class MyClass and assigns it to class_instance\n",
    "\n",
    "print(class_instance)"
   ]
  },
  {
   "cell_type": "markdown",
   "metadata": {},
   "source": [
    "The instantiation operation creates an empty object.\n",
    "\n",
    "Many classes like to create objects with instances customized to a specific initial state. Therefore a class may define a special method named **\\_\\_init\\_\\_( )**."
   ]
  },
  {
   "cell_type": "code",
   "execution_count": null,
   "metadata": {
    "collapsed": true
   },
   "outputs": [],
   "source": [
    "# Example\n",
    "\n",
    "class MyClass:\n",
    "    def __init__(self):\n",
    "        self.data = []"
   ]
  },
  {
   "cell_type": "code",
   "execution_count": null,
   "metadata": {},
   "outputs": [],
   "source": [
    "# When a class defines an __init__() method,\n",
    "# class instantiation automatically invokes __init__()\n",
    "# for the newly-created class instance.\n",
    "# So, for example, a new, initialized instance can be obtained that way:\n",
    "\n",
    "x = MyClass()\n",
    "\n",
    "print(x)"
   ]
  },
  {
   "cell_type": "code",
   "execution_count": null,
   "metadata": {},
   "outputs": [],
   "source": [
    "# Example:\n",
    "class Point:\n",
    "    def __init__(self, x, y):\n",
    "        self.x = x\n",
    "        self.y = y\n",
    "\n",
    "point = Point(1, 3)\n",
    "\n",
    "print((point.x, point.y))"
   ]
  },
  {
   "cell_type": "markdown",
   "metadata": {},
   "source": [
    "### Method Objects\n",
    "\n",
    "Usually, a method is called right after it is bound. However, it is not necessary to call a method immediately. If **my_class_instance.func** is a method object, this can be stored away and called later."
   ]
  },
  {
   "cell_type": "code",
   "execution_count": null,
   "metadata": {},
   "outputs": [],
   "source": [
    "# Example:\n",
    "\n",
    "class Point:\n",
    "    def __init__(self, x, y):\n",
    "        self.x = x\n",
    "        self.y = y\n",
    "    \n",
    "    def func(self):\n",
    "        return \"a sample string\"\n",
    "\n",
    "x = Point(5, 7)\n",
    "i = 0\n",
    "\n",
    "xf = x.func # it is not executed here\n",
    "while True:\n",
    "    print(xf()) # but here it is!\n",
    "    if i==3:\n",
    "        break\n",
    "    i += 1"
   ]
  },
  {
   "cell_type": "markdown",
   "metadata": {},
   "source": [
    "### Class and instance variables\n",
    "\n",
    "Instance variables are data unique to each instance.\n",
    "\n",
    "Class variables are attributes and methods shared by all instances of the class."
   ]
  },
  {
   "cell_type": "code",
   "execution_count": null,
   "metadata": {},
   "outputs": [],
   "source": [
    "# Example:\n",
    "\n",
    "class Person:\n",
    "    number_of_hands = 2 # class variable - shared by all instances\n",
    "    number_of_legs = 2 # class variable - shared by all instances\n",
    "    \n",
    "    def __init__(self, name):\n",
    "        self.name = name # instance variable - unique to each instance\n",
    "\n",
    "per = Person(\"Andy\")\n",
    "per2 = Person(\"Chris\")\n",
    "print(per.number_of_hands) # shared by all instances\n",
    "print(per2.number_of_hands) # shared by all instances\n",
    "\n",
    "print(per.name) # unique to per\n",
    "print(per2.name) # unique to per2"
   ]
  },
  {
   "cell_type": "markdown",
   "metadata": {},
   "source": [
    "## Inheritance\n",
    "\n",
    "Of course, a language would not be worthy to be called **class** without supporting inheritance.\n",
    "\n",
    "The syntax for a derived class definition is similar to the base class."
   ]
  },
  {
   "cell_type": "code",
   "execution_count": null,
   "metadata": {},
   "outputs": [],
   "source": [
    "# Example:\n",
    "\n",
    "class BaseClass: \n",
    "    def __init__(self, name):\n",
    "        self.name = name\n",
    "        self.color = \"green\"\n",
    "        print(\"I am a base class constructor\")\n",
    "    \n",
    "    def getColor(self): # getter\n",
    "        return self.color\n",
    "    \n",
    "    def setColor(self, color): # setter\n",
    "        self.color = color\n",
    "\n",
    "\n",
    "class DerivedClass(BaseClass):\n",
    "    def __init__(self, name, age):\n",
    "        self.age = age\n",
    "        super().__init__(name)\n",
    "        print(\"I am a derived class constructor\")\n",
    "\n",
    "x = DerivedClass(\"Andy\", 5)\n",
    "print(x.getColor())\n",
    "x.setColor(\"blue\")\n",
    "print(x.getColor())"
   ]
  },
  {
   "cell_type": "markdown",
   "metadata": {},
   "source": [
    "**Excercise:** write a definition of base class for 1D point with proper getters and setters. Then, create a derived class called Point2D, include proper getters and setters. Then, write a class called Point3D that derives from Point2D."
   ]
  },
  {
   "cell_type": "code",
   "execution_count": null,
   "metadata": {
    "collapsed": true
   },
   "outputs": [],
   "source": [
    "# Here comes the code\n"
   ]
  },
  {
   "cell_type": "markdown",
   "metadata": {},
   "source": [
    "### Multiple inheritance\n",
    "\n",
    "Python supports a form of multiple inheritance. It looks like this:"
   ]
  },
  {
   "cell_type": "code",
   "execution_count": null,
   "metadata": {},
   "outputs": [],
   "source": [
    "# Example:\n",
    "\n",
    "class A:\n",
    "    def __init__(self, name):\n",
    "        self.name = name\n",
    "        print(\"A class constructor\")\n",
    "\n",
    "class B:\n",
    "    def __init__(self, color):\n",
    "        self.color = color\n",
    "        print(\"B class constructor\")\n",
    "\n",
    "class C(A, B):\n",
    "    def __init__(self, name, color, num): # you can do it this way\n",
    "        self.num = num\n",
    "        A.__init__(self, name)\n",
    "        B.__init__(self, color)\n",
    "        print(\"C class constructor\")\n",
    "\n",
    "x = C(\"John\", \"blue\", 17)"
   ]
  },
  {
   "cell_type": "code",
   "execution_count": null,
   "metadata": {},
   "outputs": [],
   "source": [
    "# you can also use cooperative super()\n",
    "\n",
    "class A(object):\n",
    "    def __init__(self, a=None, b=None, *args, **kwargs):\n",
    "        super().__init__(*args, **kwargs)\n",
    "        print('Init {} with arguments {}'.format(self.__class__.__name__, (a, b)))\n",
    "\n",
    "class B(object):\n",
    "    def __init__(self, q=None, *args, **kwargs):\n",
    "        super().__init__(*args, **kwargs)\n",
    "        print('Init {} with arguments {}'.format(self.__class__.__name__, (q)))\n",
    "\n",
    "class C(A, B):\n",
    "    def __init__(self):\n",
    "        super().__init__(a=1, b=2, q=3)\n",
    "\n",
    "x = C()"
   ]
  },
  {
   "cell_type": "markdown",
   "metadata": {},
   "source": [
    "## Private variables"
   ]
  },
  {
   "cell_type": "markdown",
   "metadata": {},
   "source": [
    "To be honest, truly private instance variables that cannot be accessed except from inside an object do not exist in Python.\n",
    "\n",
    "However, there is a convention that is followed in most of Python code: a name prefixed with an underscore (like: _variable) should be treated as a non-public part of the API (whether it is a function, a method or a data member). It should be considered as an implementation detail and subject to change without notice.\n",
    "\n",
    "Since there is a valid use-case for class-private members (namely to avoid name clashes of names with names defined by subclasses), there is limited support for such a mechanism, called name mangling. Any identifier of the form **\\_\\_variable** (at least two leading underscores, at most one trailing underscore) is textually replaced with **\\_classname\\_\\_variable**, where classname is the current class name with leading underscore(s) stripped. This mangling is done without regard to the syntactic position of the identifier, as long as it occurs within the definition of a class.\n",
    "\n",
    "Name mangling is helpful for letting subclasses override methods without breaking intraclass method calls."
   ]
  },
  {
   "cell_type": "code",
   "execution_count": null,
   "metadata": {
    "collapsed": true
   },
   "outputs": [],
   "source": [
    "# Example:\n",
    "class BaseClass:\n",
    "    def __init__(self, item):\n",
    "        self.items_list = []\n",
    "        self.__update(item)\n",
    "    \n",
    "    def update(self, item):\n",
    "        for x in items:\n",
    "            self.items_list.append(x)\n",
    "    \n",
    "    __update = update # private copy of original update() method\n",
    "\n",
    "class DerivedClass(BaseClass):\n",
    "    def update(self, keys, values):\n",
    "        # overrides the update method\n",
    "        for item in zip(keys, values):\n",
    "            self.items_list.append(item)"
   ]
  },
  {
   "cell_type": "markdown",
   "metadata": {},
   "source": [
    "### Empty class definition\n",
    "\n",
    "Sometimes you just need an empty class definition. Here's the way to do this and build the abstraction around it."
   ]
  },
  {
   "cell_type": "code",
   "execution_count": null,
   "metadata": {
    "collapsed": true
   },
   "outputs": [],
   "source": [
    "class BaseClass:\n",
    "    pass\n",
    "\n",
    "obj = BaseClass() # creates an empty BaseClass object\n",
    "\n",
    "# fill the fields!\n",
    "obj.name = \"Andy\"\n",
    "obj.color = \"blue\""
   ]
  },
  {
   "cell_type": "markdown",
   "metadata": {},
   "source": [
    "<br/><br/>"
   ]
  },
  {
   "cell_type": "markdown",
   "metadata": {},
   "source": [
    "## Iterators\n",
    "\n",
    "You already know how to iterate over the collections and sequences using the **for** loop.\n",
    "\n",
    "The use of iterators pervades and unifies Python.\n",
    "\n",
    "Behind the scenes, the **for** statement calls **iter()** on the container object.\n",
    "\n",
    "The function returns an iterator object that defines the method **\\_\\_next\\_\\_( )** which accesses elements in the container - one at a time.\n",
    "\n",
    "When there are no more elements, \\_\\_next\\_\\_( ) raises a **StopIteration** exception which tells the for loop to terminate.\n",
    "\n",
    "You can call the **\\_\\_next\\_\\_( )** method using the **next( )** built-in function."
   ]
  },
  {
   "cell_type": "code",
   "execution_count": null,
   "metadata": {},
   "outputs": [],
   "source": [
    "your_string = 'abcde'\n",
    "it = iter(your_string)\n",
    "print(it)\n",
    "print(next(it))\n",
    "print(next(it))\n",
    "print(next(it))\n",
    "print(next(it))\n",
    "print(next(it))\n",
    "print(next(it))"
   ]
  }
 ],
 "metadata": {
  "kernelspec": {
   "display_name": "Python 3",
   "language": "python",
   "name": "python3"
  },
  "language_info": {
   "codemirror_mode": {
    "name": "ipython",
    "version": 3
   },
   "file_extension": ".py",
   "mimetype": "text/x-python",
   "name": "python",
   "nbconvert_exporter": "python",
   "pygments_lexer": "ipython3",
   "version": "3.6.4"
  }
 },
 "nbformat": 4,
 "nbformat_minor": 2
}
