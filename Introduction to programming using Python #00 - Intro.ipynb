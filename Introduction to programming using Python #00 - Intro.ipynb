{
 "cells": [
  {
   "cell_type": "markdown",
   "metadata": {},
   "source": [
    "# Introduction to programming using Python"
   ]
  },
  {
   "cell_type": "markdown",
   "metadata": {},
   "source": [
    "## Python"
   ]
  },
  {
   "cell_type": "markdown",
   "metadata": {},
   "source": [
    "Python is a general-purpose, versatile and popular programming language that lets you work quickly and integrate your systems effectively. It is one of the easiest languages to take when you start your journey with programming.\n",
    "\n",
    "It is **great as a first language** because it is **concise and easy to read** as it looks like a pseudocode and resembles English words. Python pushes user to **utilize the best coding practices**.\n",
    "\n",
    "It is also a good language to have in any programmer's stack as **it can be used for everything** from web development to backend software development and **scientific applications**. \n",
    "\n",
    "Its libraries include methods for scientific computation, data analysis, machine learning, shell scripting and web development.\n",
    "\n",
    "During this course you will learn how to develop software using Python. You will also look at programming from the very different perspective."
   ]
  },
  {
   "cell_type": "markdown",
   "metadata": {},
   "source": [
    "## What makes Python a good choice?"
   ]
  },
  {
   "cell_type": "markdown",
   "metadata": {},
   "source": [
    "* easy to integrate with web apps and production databases\n",
    "* packages: **NumPy**, **pandas**, **matplotlib**, **scikit-learn**, **scipy**\n",
    "* IDEs: **Spyder**, **IPython Notebook**, **PyCharm**\n",
    "* support in popular text editors: **Atom**, **Vim**, **Emacs**, **Sublime Text**, **Visual Studio**, **Eclipse (PyDev)**\n",
    "* easy syntax - more time to play\n",
    "* _I'd rather do math in a general purpose language than try to do general purpose programming in a math language_\n",
    "\n",
    "R vs Python war: https://www.datacamp.com/community/tutorials/r-or-python-for-data-analysis#gs.65nSF9w"
   ]
  },
  {
   "cell_type": "markdown",
   "metadata": {},
   "source": [
    "## What will you learn during this course?"
   ]
  },
  {
   "cell_type": "markdown",
   "metadata": {},
   "source": [
    "- Python syntax\n",
    "- advantages and limitations of Python language\n",
    "- how to design and write scripts and programs\n",
    "- what the Object Oriented Programming is all about\n",
    "- how to use external libraries and create your own ones\n",
    "- how to analyze and solve problems using Python"
   ]
  },
  {
   "cell_type": "markdown",
   "metadata": {},
   "source": [
    "## Roadmap"
   ]
  },
  {
   "cell_type": "markdown",
   "metadata": {},
   "source": [
    "1. Introduction to Software Development with Python\n",
    "2. Python interpreter\n",
    "3. Data types and operators\n",
    "4. Flow control and loops \n",
    "5. Input/Output operations\n",
    "6. Files\n",
    "7. Data structures\n",
    "8. Functions\n",
    "9. Modules\n",
    "10. Object Oriented Programming\n",
    "11. Exceptions\n",
    "12. Final project"
   ]
  },
  {
   "cell_type": "markdown",
   "metadata": {},
   "source": [
    "# This course covers all the topics required for passing Microsoft 98-381 Introduction to programming using Python exam."
   ]
  }
 ],
 "metadata": {
  "kernelspec": {
   "display_name": "Python 3",
   "language": "python",
   "name": "python3"
  },
  "language_info": {
   "codemirror_mode": {
    "name": "ipython",
    "version": 3
   },
   "file_extension": ".py",
   "mimetype": "text/x-python",
   "name": "python",
   "nbconvert_exporter": "python",
   "pygments_lexer": "ipython3",
   "version": "3.6.4"
  }
 },
 "nbformat": 4,
 "nbformat_minor": 2
}
