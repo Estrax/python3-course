{
 "cells": [
  {
   "cell_type": "markdown",
   "metadata": {
    "collapsed": true
   },
   "source": [
    "# Introduction to programming using Python"
   ]
  },
  {
   "cell_type": "markdown",
   "metadata": {},
   "source": [
    "## Exceptions"
   ]
  },
  {
   "cell_type": "markdown",
   "metadata": {},
   "source": [
    "There are (at least) two distinguishable kinds of errors: syntax errors and exceptions."
   ]
  },
  {
   "cell_type": "markdown",
   "metadata": {},
   "source": [
    "## Syntax Errors\n",
    "\n",
    "Syntax errors - also known as parsing errors - are perhaps the most common kind of complaint you get when learning Python."
   ]
  },
  {
   "cell_type": "code",
   "execution_count": null,
   "metadata": {},
   "outputs": [],
   "source": [
    "# Example\n",
    "\n",
    "while True print(\"ERR\")"
   ]
  },
  {
   "cell_type": "markdown",
   "metadata": {},
   "source": [
    "The parser repeats the offending line and displays a little **arrow** pointing at the earliest point in the line where the error was detected.\n",
    "\n",
    "The error is caused by (or at least detected at) the token preceding the arrow. In the example above, the error is detected at the function print(), since a colon ('**:**') is missing before it. File name and line number are printed so you know where to look in case the input came from a script."
   ]
  },
  {
   "cell_type": "markdown",
   "metadata": {},
   "source": [
    "## Exceptions"
   ]
  },
  {
   "cell_type": "markdown",
   "metadata": {},
   "source": [
    "Even if a statement or expression is syntactically correct, it may cause an error when you try to execute it.\n",
    "\n",
    "Errors detected during execution are called exceptions. They are not unconditionally bad - during this lecture you will learn how to deal with them in your programs. Most exceptions are not handled by programs."
   ]
  },
  {
   "cell_type": "code",
   "execution_count": null,
   "metadata": {},
   "outputs": [],
   "source": [
    "# Example:\n",
    "\n",
    "print(3/0)"
   ]
  },
  {
   "cell_type": "code",
   "execution_count": null,
   "metadata": {},
   "outputs": [],
   "source": [
    "# Example:\n",
    "print('5'-3)"
   ]
  },
  {
   "cell_type": "markdown",
   "metadata": {},
   "source": [
    "The last line of the error message indicates what happened.\n",
    "\n",
    "Exceptions come in different types. The type is printed as part of the message. The types in the examples above are ZeroDivisionError and TypeError.\n",
    "\n",
    "The string printed as the exception type is the name of the built-in exception that occurred.\n",
    "\n",
    "This is true for all built-in exceptions, but may not be true for user-defined exceptions (although it is a useful convention). Standard exception names are built-in identifiers and are not the reserved keywords.\n",
    "\n",
    "The rest of the line provides detailed description about the type of exception and what caused it.\n",
    "\n",
    "The preceding part of the error message shows the context where the exception happened in the form of a stack traceback.\n",
    "\n",
    "In general, it contains a stack traceback listing source lines - but it will not display lines read from standard input."
   ]
  },
  {
   "cell_type": "markdown",
   "metadata": {},
   "source": [
    "## Handling exceptions"
   ]
  },
  {
   "cell_type": "markdown",
   "metadata": {},
   "source": [
    "The **try** statement works as follows.\n",
    "\n",
    "1. The try clause (the statement(s) between the try and except keywords) is executed.\n",
    "2. If no exception occurs, the except clause is skipped and execution of the try statement is finished.\n",
    "3. If an exception occurs during execution of the try clause, the rest of the clause is skipped. Then if its type matches the exception named after the except keyword, the except clause is executed and then execution continues after the try statement.\n",
    "4. If an exception occurs which does not match the exception named in the except clause, it is passed on to outer try statements. If no handler is found, it is an unhandled exception and execution stops with the message."
   ]
  },
  {
   "cell_type": "code",
   "execution_count": null,
   "metadata": {},
   "outputs": [],
   "source": [
    "# Example:\n",
    "\n",
    "while True:\n",
    "    try:\n",
    "        x = int(input(\"Please enter the number: \"))\n",
    "        break\n",
    "    except ValueError:\n",
    "        print(\"That was not a valid number - try again!\")"
   ]
  },
  {
   "cell_type": "code",
   "execution_count": null,
   "metadata": {},
   "outputs": [],
   "source": [
    "# Example:\n",
    "class B(Exception):\n",
    "    pass\n",
    "\n",
    "class C(B):\n",
    "    pass\n",
    "\n",
    "class D(C):\n",
    "    pass\n",
    "\n",
    "for e in [B, C, D]:\n",
    "    try:\n",
    "        raise e()\n",
    "    except D:\n",
    "        print(\"D\")\n",
    "    except C:\n",
    "        print(\"C\")\n",
    "    except B:\n",
    "        print(\"B\")"
   ]
  },
  {
   "cell_type": "markdown",
   "metadata": {},
   "source": [
    "**The last except clause may omit the exception name(s), to serve as a wildcard.**\n",
    "\n",
    "Use this with extreme caution. It is easy to mask a real error this way!\n",
    "\n",
    "It can also be used to print an error message and then re-raise the exception (allowing a caller to handle the exception as well)."
   ]
  },
  {
   "cell_type": "code",
   "execution_count": null,
   "metadata": {},
   "outputs": [],
   "source": [
    "# Example:\n",
    "import sys\n",
    "\n",
    "try:\n",
    "    f = open('myfile.txt')\n",
    "    s = f.readline()\n",
    "    i = int(s.strip())\n",
    "except OSError as err:\n",
    "    print(\"OS error: {0}\".format(err))\n",
    "except ValueError:\n",
    "    print(\"Could not convert data to an integer.\")\n",
    "except:\n",
    "    print(\"Unexpected error:\", sys.exc_info()[0])\n",
    "    raise"
   ]
  },
  {
   "cell_type": "markdown",
   "metadata": {},
   "source": [
    "The try ... except statement has an optional else clause.\n",
    "\n",
    "The else clause - when present - must follow all except clauses.\n",
    "\n",
    "It is useful for code that must be executed **if the try clause does not raise any exception**."
   ]
  },
  {
   "cell_type": "code",
   "execution_count": null,
   "metadata": {},
   "outputs": [],
   "source": [
    "# Example:\n",
    "for arg in sys.argv[1:]:\n",
    "    try:\n",
    "        f = open(arg, 'r')\n",
    "    except OSError:\n",
    "        print('cannot open', arg)\n",
    "    else:\n",
    "        print(arg, 'has', len(f.readlines()), 'lines')\n",
    "        f.close()"
   ]
  },
  {
   "cell_type": "markdown",
   "metadata": {},
   "source": [
    "The use of the else clause is better than adding additional code to the try clause because it avoids accidentally catching an exception that was not raised by the code being protected by the try-except statement.\n",
    "\n",
    "When an exception occurs, it may have an associated value - the exception's argument. The presence and type of the argument depend on the exception type.\n",
    "\n",
    "The except clause may specify a variable after the exception name. The variable is bound to an exception instance with the arguments stored in instance.args.\n",
    "\n",
    "The exception instance defines **\\_\\_str\\_\\_( )** so the arguments can be printed directly without having to reference **.args**.\n",
    "\n",
    "You can also instantiate an exception first before raising it and add any attributes to it as desired."
   ]
  },
  {
   "cell_type": "code",
   "execution_count": null,
   "metadata": {},
   "outputs": [],
   "source": [
    "# Example:\n",
    "try:\n",
    "    raise Exception(\"arg1\", \"arg2\")\n",
    "except Exception as instance:\n",
    "    print(type(instance)) # the exception instance\n",
    "    print(instance.args) # arguments are stored in .args\n",
    "    print(instance) # the exception class also has the __str__ method that allows to print it directly\n",
    "    \n",
    "    x, y = instance.args # unpack arguments\n",
    "    print(\"x =\", x, \" --- \", \"y =\", y)"
   ]
  },
  {
   "cell_type": "markdown",
   "metadata": {},
   "source": [
    "If an exception has arguments, they are printed as the last part of the message for unhandled exceptions (the \"details\").\n",
    "\n",
    "Exception handlers do not just handle exceptions if they occur in the try clause, but also if they occur inside functions that are called (even indirectly) in the try clause."
   ]
  },
  {
   "cell_type": "code",
   "execution_count": null,
   "metadata": {},
   "outputs": [],
   "source": [
    "def func_that_fails():\n",
    "    x = 0/0\n",
    "\n",
    "try:\n",
    "    func_that_fails()\n",
    "except ZeroDivisionError as error:\n",
    "    print(\"This is the error:\", error)"
   ]
  },
  {
   "cell_type": "markdown",
   "metadata": {},
   "source": [
    "### Raising exceptions"
   ]
  },
  {
   "cell_type": "markdown",
   "metadata": {},
   "source": [
    "The raise statement allows to force specific exception to occur."
   ]
  },
  {
   "cell_type": "code",
   "execution_count": null,
   "metadata": {},
   "outputs": [],
   "source": [
    "# Example:\n",
    "raise ValueError(\"This is my string\")"
   ]
  },
  {
   "cell_type": "markdown",
   "metadata": {},
   "source": [
    "If you need to determine whether an exception was raised but do not intend to handle it, a simpler form of the raise statement allows you to re-raise the exception."
   ]
  },
  {
   "cell_type": "code",
   "execution_count": null,
   "metadata": {},
   "outputs": [],
   "source": [
    "# Example:\n",
    "try:\n",
    "    raise ValueError(\"this is the value error\")\n",
    "except ValueError:\n",
    "    print(\"This is an exception!\")\n",
    "    raise"
   ]
  },
  {
   "cell_type": "markdown",
   "metadata": {},
   "source": [
    "## User-defined exceptions"
   ]
  },
  {
   "cell_type": "markdown",
   "metadata": {},
   "source": [
    "Your programs may have their own exceptions that you can create by creating a new exception class. Exceptions should typically be derived from the Exception class, either directly or indirectly.\n",
    "\n",
    "Exception classes can be defined based on which they do like any other classes, but are usually kept simple, often only offering a limited number of attributes that allow to get informations about the error - the ones that can be extracted by handlers for the exception.\n",
    "\n",
    "When creating a module that can raise several distinct errors, a common practice is to create a base class for exceptions defined by that module and subclass to create specific exception classes for different error conditions."
   ]
  },
  {
   "cell_type": "code",
   "execution_count": null,
   "metadata": {
    "collapsed": true
   },
   "outputs": [],
   "source": [
    "# Example:\n",
    "class Error(Exception):\n",
    "    \"\"\"base class for exceptions in this module\"\"\"\n",
    "    pass\n",
    "\n",
    "class InputError(Error):\n",
    "    \"\"\"exception raised for errors in the input\n",
    "    \n",
    "    Attributes:\n",
    "        expression - input expression that causes an error\n",
    "        message explanation of the error\n",
    "    \"\"\"\n",
    "    def __init__(self, expression, message):\n",
    "        self.expression = expression\n",
    "        self.message = message"
   ]
  },
  {
   "cell_type": "markdown",
   "metadata": {},
   "source": [
    "The try statement has an optional clause that is intended to define clean-up actions that must be executed under all circumstances.\n",
    "\n",
    "A finally clause is always being executed before leaving the try statement, whether an exception has occurred or not."
   ]
  },
  {
   "cell_type": "markdown",
   "metadata": {},
   "source": [
    "## Exception types\n",
    "\n",
    "There is a comprehensive list of all the Python built-in exception types:\n",
    "https://docs.python.org/3/library/exceptions.html"
   ]
  }
 ],
 "metadata": {
  "kernelspec": {
   "display_name": "Python 3",
   "language": "python",
   "name": "python3"
  },
  "language_info": {
   "codemirror_mode": {
    "name": "ipython",
    "version": 3
   },
   "file_extension": ".py",
   "mimetype": "text/x-python",
   "name": "python",
   "nbconvert_exporter": "python",
   "pygments_lexer": "ipython3",
   "version": "3.6.4"
  }
 },
 "nbformat": 4,
 "nbformat_minor": 2
}
