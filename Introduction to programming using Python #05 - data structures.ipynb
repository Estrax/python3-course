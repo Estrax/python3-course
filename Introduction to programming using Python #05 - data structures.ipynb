{
 "cells": [
  {
   "cell_type": "markdown",
   "metadata": {
    "collapsed": true
   },
   "source": [
    "# Introduction to programming using Python"
   ]
  },
  {
   "cell_type": "markdown",
   "metadata": {},
   "source": [
    "## Data Structures"
   ]
  },
  {
   "cell_type": "markdown",
   "metadata": {},
   "source": [
    "The most important elements in writing the software are algorithms and data structures. They decide whether the program executes properly, as well as how fast and effective it work - not only in the case of time, but also in the case of memory and complexity. During this lecture we are goint to talk about common data structures and their implementations in Python."
   ]
  },
  {
   "cell_type": "markdown",
   "metadata": {},
   "source": [
    "<br/><br/>"
   ]
  },
  {
   "cell_type": "markdown",
   "metadata": {},
   "source": [
    "## Lists\n",
    "\n",
    "The lists have some methods. Here are some of them."
   ]
  },
  {
   "cell_type": "code",
   "execution_count": null,
   "metadata": {},
   "outputs": [],
   "source": [
    "# Example\n",
    "\n",
    "items = []\n",
    "\n",
    "items.append(\"element\") # append adds an item to the end of the list\n",
    "\n",
    "items"
   ]
  },
  {
   "cell_type": "code",
   "execution_count": null,
   "metadata": {},
   "outputs": [],
   "source": [
    "my_list = [\"new element\", \"second element\"]\n",
    "\n",
    "items.extend(my_list) # extends the list by appending all the items from argument\n",
    "items"
   ]
  },
  {
   "cell_type": "code",
   "execution_count": null,
   "metadata": {},
   "outputs": [],
   "source": [
    "items.insert(0, \"first element\") # inserts an item at a given position: 0\n",
    "# 0 -> the very first position at the list\n",
    "# the rest elements (the ones after the index) are being moved by the one place\n",
    "items"
   ]
  },
  {
   "cell_type": "code",
   "execution_count": null,
   "metadata": {},
   "outputs": [],
   "source": [
    "items.insert(len(items), \"the last element\") # replacement for append command\n",
    "items"
   ]
  },
  {
   "cell_type": "code",
   "execution_count": null,
   "metadata": {},
   "outputs": [],
   "source": [
    "# here I add few elements to the list:\n",
    "items.append(\"1\")\n",
    "items.append(\"1\")\n",
    "items.append(\"1\")\n",
    "items.insert(6, \"123\")\n",
    "items"
   ]
  },
  {
   "cell_type": "code",
   "execution_count": null,
   "metadata": {},
   "outputs": [],
   "source": [
    "items.remove('1') # removes the first occurence of value x from the list.\n",
    "items"
   ]
  },
  {
   "cell_type": "code",
   "execution_count": null,
   "metadata": {},
   "outputs": [],
   "source": [
    "print(items.pop(2)) # remove the item at the given position on the list and return it\n",
    "print(items.pop()) # when no index is specified, it works the same but on the last element on the list."
   ]
  },
  {
   "cell_type": "code",
   "execution_count": null,
   "metadata": {},
   "outputs": [],
   "source": [
    "items.clear() # removes all the elements from the list (equivalent to del list_name[:])\n",
    "items"
   ]
  },
  {
   "cell_type": "code",
   "execution_count": null,
   "metadata": {},
   "outputs": [],
   "source": [
    "items = []\n",
    "items.append(\"1\")\n",
    "items.append(\"1\")\n",
    "items.append(\"1\")\n",
    "print(items)\n",
    "\n",
    "print(items.index(\"1\")) # return zero based index in the list of the item whose value is x\n",
    "# also raises a ValueError when there is no such item.\n",
    "\n",
    "value = \"1\"\n",
    "start = 1\n",
    "end = 2\n",
    "\n",
    "print(items.index(value, start, end)) # you can also specify the start and end index"
   ]
  },
  {
   "cell_type": "code",
   "execution_count": null,
   "metadata": {},
   "outputs": [],
   "source": [
    "items.count(\"1\") # returns the number of times value appears on the list"
   ]
  },
  {
   "cell_type": "code",
   "execution_count": null,
   "metadata": {},
   "outputs": [],
   "source": [
    "items = []\n",
    "items.append(3)\n",
    "items.append(2)\n",
    "items.append(7)\n",
    "items.append(5)\n",
    "print(items) # fill in a list and print it\n",
    "\n",
    "items.sort(reverse=True) # sorts the items of the list in place - you can specify arguments:\n",
    "# key and reverse - for sort customization\n",
    "items"
   ]
  },
  {
   "cell_type": "code",
   "execution_count": null,
   "metadata": {},
   "outputs": [],
   "source": [
    "items.reverse() # reverse the elements of the list in place\n",
    "items"
   ]
  },
  {
   "cell_type": "code",
   "execution_count": null,
   "metadata": {},
   "outputs": [],
   "source": [
    "items.copy # returns a shallow copy of the list - equivalent to items[:]\n",
    "items"
   ]
  },
  {
   "cell_type": "markdown",
   "metadata": {},
   "source": [
    "## Using lists as stacks\n",
    "\n",
    "The list methods make it easy to use a list as a stack.\n",
    "\n",
    "In stacks, the last element added is the first element retrieved (stacks are also called the LIFO structures: last-in, first-out).\n",
    "\n",
    "To add an item to the top of the stack, use the append() method.\n",
    "\n",
    "To retrieve an item from the top of the stack, use pop() without an explicit index."
   ]
  },
  {
   "cell_type": "code",
   "execution_count": null,
   "metadata": {},
   "outputs": [],
   "source": [
    "# Example:\n",
    "stack = []\n",
    "stack.append(1)\n",
    "stack.append(2)\n",
    "stack.append(3)\n",
    "print(stack)\n",
    "stack.pop()\n",
    "print(stack)\n",
    "stack.pop()\n",
    "print(stack)"
   ]
  },
  {
   "cell_type": "markdown",
   "metadata": {},
   "source": [
    "**Excercise:** implement a function that takes a stack as an argument and reverse the data order using the second stack."
   ]
  },
  {
   "cell_type": "code",
   "execution_count": null,
   "metadata": {
    "collapsed": true
   },
   "outputs": [],
   "source": [
    "# Here comes the code\n"
   ]
  },
  {
   "cell_type": "markdown",
   "metadata": {},
   "source": [
    "<br/><br/>"
   ]
  },
  {
   "cell_type": "markdown",
   "metadata": {},
   "source": [
    "# Using lists as queues\n",
    "\n",
    "You can also use a list as a queue. In queues the first element added is the first element retrieved (queues are also called the FIFO structures: first-in, first-out).\n",
    "\n",
    "Note, that lists are not very efficient for this purpose. While append and pop operations from the end of list are fairly fast, inserts or pops from the beginning of a list are very slow, because all of the other elements have to be shifted by one position.\n",
    "\n",
    "We are going to implement a queue using **collections.deque** that was designed to have fast appends and pops from both ends."
   ]
  },
  {
   "cell_type": "code",
   "execution_count": null,
   "metadata": {},
   "outputs": [],
   "source": [
    "# Example:\n",
    "from collections import deque # import deque from collections module\n",
    "\n",
    "queue = deque([])\n",
    "\n",
    "queue.append(\"First element\")\n",
    "queue.append(\"Second element\")\n",
    "queue.append(\"Third element\")\n",
    "\n",
    "print(queue)\n",
    "\n",
    "print(queue.popleft()) # pop from the left side\n",
    "\n",
    "print(queue)\n",
    "\n",
    "print(queue.pop())\n",
    "\n",
    "print(queue)"
   ]
  },
  {
   "cell_type": "markdown",
   "metadata": {},
   "source": [
    "<br/><br/>"
   ]
  },
  {
   "cell_type": "markdown",
   "metadata": {},
   "source": [
    "## List comprehensions\n",
    "\n",
    "List comprehensions provide a great way to create lists.\n",
    "\n",
    "Common applications are to make new lists where each element is the result of some operations applied to each member of another sequence or iterable. Sometimes it is also used to create a subsequence of those elements that satisfy a certain condition."
   ]
  },
  {
   "cell_type": "code",
   "execution_count": null,
   "metadata": {},
   "outputs": [],
   "source": [
    "# Example: list of squares\n",
    "\n",
    "# the easiest way\n",
    "squares = []\n",
    "for i in range(20):\n",
    "    squares.append(pow(i, 2))\n",
    "print(squares)\n",
    "\n",
    "# but it overwrites the i variable during every iteration. Let's remove the side effects.\n",
    "squares = []\n",
    "squares = list(map(lambda x: pow(x, 2), range(20))) # using a lambda function over the given range\n",
    "# and then casting it to map, then to list.\n",
    "print(squares)\n",
    "\n",
    "# it can also be done that way:\n",
    "squares = []\n",
    "\n",
    "squares = [pow(x, 2) for x in range(20)] # it should be more readable\n",
    "print(squares)"
   ]
  },
  {
   "cell_type": "markdown",
   "metadata": {},
   "source": [
    "A list comprehension consists of:\n",
    "- brackets containing an expression \n",
    "- a for clause\n",
    "- then zero or more for or if clauses\n",
    "\n",
    "The result will be a new list resulting from evaluating the expression in the context of the for and if clauses which follow it."
   ]
  },
  {
   "cell_type": "markdown",
   "metadata": {},
   "source": [
    "You can also nest them! Let's check how it works on the matrix."
   ]
  },
  {
   "cell_type": "code",
   "execution_count": null,
   "metadata": {},
   "outputs": [],
   "source": [
    "# Example:\n",
    "matrix = [\n",
    "    [1, 2, 3, 4],\n",
    "    [5, 6, 7, 8],\n",
    "    [9, 10, 11, 12]\n",
    "]\n",
    "\n",
    "matrix"
   ]
  },
  {
   "cell_type": "code",
   "execution_count": null,
   "metadata": {},
   "outputs": [],
   "source": [
    "matrix_transposed = [[row[i] for row in matrix] for i in range(4)]\n",
    "print(matrix_transposed)"
   ]
  },
  {
   "cell_type": "code",
   "execution_count": null,
   "metadata": {},
   "outputs": [],
   "source": [
    "# and it is basically the same as following code:\n",
    "transposed = []\n",
    "for i in range(4):\n",
    "    t_row = []\n",
    "    for row in matrix:\n",
    "        t_row.append(row[i])\n",
    "    transposed.append(t_row)\n",
    "\n",
    "print(transposed)"
   ]
  },
  {
   "cell_type": "markdown",
   "metadata": {},
   "source": [
    "<br/><br/>"
   ]
  },
  {
   "cell_type": "markdown",
   "metadata": {},
   "source": [
    "## Tuples\n",
    "\n",
    "Tuples are much like lists, but they differ a little. First of all, they are **immutable**, so you cannot change the value after setting it up without returning the new one. They also use the parentheses instead of brackets."
   ]
  },
  {
   "cell_type": "markdown",
   "metadata": {},
   "source": [
    "A typical tuple consist of a number of comma-separated values."
   ]
  },
  {
   "cell_type": "code",
   "execution_count": null,
   "metadata": {},
   "outputs": [],
   "source": [
    "# Example:\n",
    "t = 1, 2, 3\n",
    "t"
   ]
  },
  {
   "cell_type": "markdown",
   "metadata": {},
   "source": [
    "Tuples can be nested!"
   ]
  },
  {
   "cell_type": "code",
   "execution_count": null,
   "metadata": {},
   "outputs": [],
   "source": [
    "tpl = t, (4, 5, 6)\n",
    "tpl"
   ]
  },
  {
   "cell_type": "markdown",
   "metadata": {},
   "source": [
    "Tuples are immutable, but they can contain mutable objects."
   ]
  },
  {
   "cell_type": "code",
   "execution_count": null,
   "metadata": {},
   "outputs": [],
   "source": [
    "tpl = ([1, 2], [3, 4])\n",
    "print(tpl)\n",
    "tpl[0].append(3)\n",
    "print(tpl)"
   ]
  },
  {
   "cell_type": "markdown",
   "metadata": {},
   "source": [
    "Output tuples are always enclosed in parentheses. You can create new ones even without using parentheses, but they are often needed. \n",
    "\n",
    "Even though tuples looks similar to lists, they are often used in different situations and for different purposes.\n",
    "\n",
    "Tuples are immutable and usually contain a heterogeneous sequence of elements that can be accessed via unpacking or indexing (or even by attribute in the case of namedtuples).\n",
    "\n",
    "Lists are mutable and their elements are usually homogeneous. In most cases they are accessed by iterating over the list.\n",
    "\n",
    "A special problem is the construction of tuples containing 0 or 1 items: the syntax has some extra quirks to accommodate these.\n",
    "\n",
    "Empty tuples can be constructed by an empty pair of parentheses.\n",
    "\n",
    "A tuple with one item is constructed by following a value with a comma (it is not sufficient to enclose a single value in parentheses). Yeah, looks very, very ugly - but effective."
   ]
  },
  {
   "cell_type": "markdown",
   "metadata": {},
   "source": [
    "## Operations on tuples\n",
    "\n",
    "The only one operation that immutable sequence types generally implement - and that is not implemented by mutable sequence types is... built-in support for the hash() method.\n",
    "\n",
    "This allows immutable sequences (such as tuple instances) to be used as dict keys and stored in set and frozenset instances (more about it later during this lecture).\n",
    "\n",
    "Attempting to hash an immutable sequence that contains unhashable values will result in TypeError.\n",
    "\n",
    "The **hash()** method returns the hash value of the object (if it has one). Hash values are integers. They are used to quickly compare dictionary keys during a dictionary lookup. Numeric values that compare equal have the same hash value (even if they are of different types, as is the case for 1 and 1.0)."
   ]
  },
  {
   "cell_type": "code",
   "execution_count": null,
   "metadata": {},
   "outputs": [],
   "source": [
    "# Example: packing the empty tuple and the one-element tuple.\n",
    "\n",
    "empty_tuple = ()\n",
    "print(empty_tuple, \" --- \", len(empty_tuple))\n",
    "\n",
    "singleton = \"this is the only element\", # note trailing comma\n",
    "print(singleton, \" --- \", len(singleton))\n",
    "\n",
    "### Unpacking the tuple\n",
    "tpl = (1, 2, 3, 4, 5)\n",
    "\n",
    "a, b, c, d, e = tpl\n",
    "print(a, b, c, d, e, type(tpl))"
   ]
  },
  {
   "cell_type": "markdown",
   "metadata": {},
   "source": [
    "<br/><br/>"
   ]
  },
  {
   "cell_type": "markdown",
   "metadata": {},
   "source": [
    "## Sets\n",
    "\n",
    "There is a data type for sets.\n",
    "\n",
    "A set is an unordered collection with no duplicate elements.\n",
    "\n",
    "Basic uses include membership testing and eliminating duplicate entries. Set objects also support mathematical operations like union, intersection, difference, and symmetric difference.\n",
    "\n",
    "To create a set, you can use **curly braces** or the **set()** function.\n",
    "\n",
    "Note: to create an empty set you have to use **set()** command and **not** { }\n",
    "The **{ }** creates an empty dictionary. We are going to talk about dictionaries later."
   ]
  },
  {
   "cell_type": "code",
   "execution_count": null,
   "metadata": {},
   "outputs": [],
   "source": [
    "# Example:\n",
    "fruits = set([\"apple\", \"banana\", \"raspberry\", \"lemon\", \"peach\", \"pineapple\"])\n",
    "print(fruits)"
   ]
  },
  {
   "cell_type": "code",
   "execution_count": null,
   "metadata": {},
   "outputs": [],
   "source": [
    "# the containment operator works on sets as well\n",
    "\n",
    "print(\"apple\" in fruits)\n",
    "print(\"tomato\" in fruits)"
   ]
  },
  {
   "cell_type": "code",
   "execution_count": null,
   "metadata": {},
   "outputs": [],
   "source": [
    "# You can use sets to make operations on unique elements from two sequences, such as strings\n",
    "\n",
    "word_a = set('pineapple')\n",
    "word_b = set('cucumber')\n",
    "\n",
    "print(word_a)\n",
    "print(word_b)\n",
    "\n",
    "# you can also use logic operators!\n",
    "print(word_a | word_b) # letters in a or b\n",
    "print(word_a - word_b) # letters in a and not in b\n",
    "print(word_a & word_b) # letters in a and in b\n",
    "print(word_a ^ word_b) # letters in a or in b but not in both"
   ]
  },
  {
   "cell_type": "code",
   "execution_count": null,
   "metadata": {},
   "outputs": [],
   "source": [
    "# You can use set comprehensions, like you used with lists\n",
    "\n",
    "my_set = {x for x in 'treasure' if x not in 'sentences'}\n",
    "print(my_set)"
   ]
  },
  {
   "cell_type": "markdown",
   "metadata": {},
   "source": [
    "**Excercise:** write a function that takes a list of words and returns all the unique letters from all of specified words.\n",
    "\n",
    "Example of words lists:\n",
    "words = [\"treasure\", \"sentences\"] -> output: {'a', 'c', 'e', 'n', 'r', 's', 't', 'u'}\n",
    "words = [\"emotional\", \"downcast\", \"root\", \"extortion\", \"bloke\", \"eliminate\", \"fast\", \"advertisement\", \"near\", \"continental\", \"always\", \"link\", \"graphic\", \"heal\", \"massive\", \"phonetic\"] -> output: {'h', 'w', 'i', 'p', 't', 'k', 'v', 'b', 'f', 'd', 's', 'm', 'l', 'x', 'y', 'r', 'g', 'n', 'e', 'a', 'o', 'c'}"
   ]
  },
  {
   "cell_type": "code",
   "execution_count": null,
   "metadata": {},
   "outputs": [],
   "source": [
    "# Here comes the code\n",
    "\n"
   ]
  },
  {
   "cell_type": "code",
   "execution_count": null,
   "metadata": {
    "collapsed": true
   },
   "outputs": [],
   "source": [
    "# Example solution:\n",
    "# def print_str(words):\n",
    "#     tmp1 = []\n",
    "#     for word in words:\n",
    "#         tmp1.append(set(word))\n",
    "#     tmp2 = set()\n",
    "#     for word in tmp1:\n",
    "#         tmp2 |= word\n",
    "#     return tmp2\n",
    "    \n",
    "# words = [\"emotional\", \"downcast\", \"root\", \"extortion\", \"bloke\", \"eliminate\", \"fast\", \"advertisement\", \"near\", \"continental\", \"always\", \"link\", \"graphic\", \"heal\", \"massive\", \"phonetic\"]\n",
    "# print(print_str(words))"
   ]
  },
  {
   "cell_type": "markdown",
   "metadata": {},
   "source": [
    "<br/><br/>"
   ]
  },
  {
   "cell_type": "markdown",
   "metadata": {},
   "source": [
    "## Dictionaries\n",
    "\n",
    "Another useful data type in Python is the **dictionary**.\n",
    "\n",
    "In some other languages dictionaries are sometimes found as **associative arrays**.\n",
    "\n",
    "Unlike sequences, which are indexed by a range of numbers, dictionaries are indexed by **keys**, which can be any **immutable** type - strings and numbers can always be keys. Tuples can be used as keys if they contain only strings, numbers, or tuples. If a tuple contains any mutable object (either directly or indirectly), it cannot be used as a key.\n",
    "\n",
    "You cannot use lists as keys, since lists can be modified in place using index assignments, slice assignments, or methods like append() and extend()."
   ]
  },
  {
   "cell_type": "markdown",
   "metadata": {},
   "source": [
    "A dictionary is a kind of an unordered set of **key : value** pairs.\n",
    "\n",
    "One of the requirements is that the keys needs to be unique within the one dictionary.\n",
    "\n",
    "To create an empty dictionary, use a pair of braces: **{ }**.\n",
    "\n",
    "Placing a comma-separated list of **key : value** pairs within the braces adds initial key:value pairs to the dictionary - this is also the way dictionaries are written to the output."
   ]
  },
  {
   "cell_type": "markdown",
   "metadata": {},
   "source": [
    "The main operations on a dictionary are:\n",
    "- storing a value with some key\n",
    "- extracting the value given the key\n",
    "\n",
    "It is also possible to delete a **key:value** pair with **del** command.\n",
    "If you store using a key that is already in use, the old value associated with that key is forgotten.\n",
    "\n",
    "Extracting a value using a non-existent key gives an error.\n",
    "\n",
    "Performing **list(d.keys( ))** on a dictionary returns a list of all the keys used in the dictionary - in arbitrary order (to get it sorted, use **sorted(d.keys( ))** ).\n",
    "\n",
    "To check whether a single key is in the dictionary, use the in keyword."
   ]
  },
  {
   "cell_type": "code",
   "execution_count": null,
   "metadata": {},
   "outputs": [],
   "source": [
    "# Example:\n",
    "\n",
    "person = { 'first_name' : 'John', 'last_name' : 'Kowalsky', \"age\" : 42, 'fav_color' : 'blue' }\n",
    "\n",
    "print(person)\n",
    "\n",
    "print(person['first_name'])\n",
    "\n",
    "print(person['fav_color'])\n",
    "\n",
    "# print the person dict keys\n",
    "print(list(person.keys()))\n",
    "\n",
    "# sort the keys\n",
    "print(sorted(person.keys()))\n",
    "\n",
    "# check whether the fav color exists in dictionary\n",
    "print('fav_color' in person)\n",
    "\n",
    "# delete the fav_color key\n",
    "del person['fav_color']\n",
    "\n",
    "# check whether the fav color key exists in dictionary\n",
    "print('fav_color' in person)"
   ]
  },
  {
   "cell_type": "code",
   "execution_count": null,
   "metadata": {},
   "outputs": [],
   "source": [
    "# The dict() constructor builds a dictionary directly from sequences of key-value pairs\n",
    "\n",
    "print(dict([('key1', 'value1'), ('key2', 'value2'), ('key3', 'value3')]))\n",
    "\n",
    "# also, the dict comprehensions can be used\n",
    "d = {x: x**2 for x in range(10)}\n",
    "print(d)\n",
    "\n",
    "# when the keys are just simple strings, you can use keyword arguments\n",
    "d = dict(key1=\"value1\", key2=\"value2\", key3=\"value3\", key4=\"value4\")\n",
    "\n",
    "print(d)"
   ]
  },
  {
   "cell_type": "markdown",
   "metadata": {},
   "source": [
    "### Looping over data structures"
   ]
  },
  {
   "cell_type": "markdown",
   "metadata": {},
   "source": [
    "When looping through dictionaries, you can get the key and the corresponding value at the same time. Just use the **items( )** method."
   ]
  },
  {
   "cell_type": "code",
   "execution_count": null,
   "metadata": {},
   "outputs": [],
   "source": [
    "# Example:\n",
    "d = dict([('key1', 'value1'), ('key2', 'value2'), ('key3', 'value3')])\n",
    "\n",
    "for key, value in d.items():\n",
    "    print(key, value)"
   ]
  },
  {
   "cell_type": "code",
   "execution_count": null,
   "metadata": {},
   "outputs": [],
   "source": [
    "# When looping through a sequence, you can get the position index and corresponding value\n",
    "# using the enumerate() function\n",
    "\n",
    "for index, value in enumerate(['value1', 'value2', 'value3']):\n",
    "    print(index, value)"
   ]
  },
  {
   "cell_type": "code",
   "execution_count": null,
   "metadata": {},
   "outputs": [],
   "source": [
    "# to loop over at least two sequences at the same time, the entries can be paired\n",
    "# using the zip() command\n",
    "\n",
    "keys = ['key1', 'key2', 'key3']\n",
    "values = ['value1', 'value2', 'value3']\n",
    "\n",
    "for k, v in zip(keys, values):\n",
    "    print(\"{} - {}\".format(k, v))"
   ]
  },
  {
   "cell_type": "code",
   "execution_count": null,
   "metadata": {},
   "outputs": [],
   "source": [
    "# to loop over a sequence in reverse, call the reversed() function\n",
    "\n",
    "sequence = list(range(1, 20, 3))\n",
    "\n",
    "for i in reversed(sequence):\n",
    "    print(i)"
   ]
  },
  {
   "cell_type": "code",
   "execution_count": null,
   "metadata": {},
   "outputs": [],
   "source": [
    "# if you want to have it in a sorted order, use sorted()\n",
    "# it returns a new sorted object, leaving the original one unaltered\n",
    "\n",
    "sequence = ['x', 'y', 'z', 'b', 'a', 'c', 'f', 'e']\n",
    "\n",
    "for item in sorted(sequence):\n",
    "    print(item)\n",
    "    \n",
    "print(sequence)"
   ]
  },
  {
   "cell_type": "markdown",
   "metadata": {},
   "source": [
    "**Excercise:** write a function that takes two lists - one with keys, the second one with values (order is important) - and returns the dictionary."
   ]
  },
  {
   "cell_type": "code",
   "execution_count": null,
   "metadata": {
    "collapsed": true
   },
   "outputs": [],
   "source": [
    "# Here comes the code\n"
   ]
  }
 ],
 "metadata": {
  "kernelspec": {
   "display_name": "Python 3",
   "language": "python",
   "name": "python3"
  },
  "language_info": {
   "codemirror_mode": {
    "name": "ipython",
    "version": 3
   },
   "file_extension": ".py",
   "mimetype": "text/x-python",
   "name": "python",
   "nbconvert_exporter": "python",
   "pygments_lexer": "ipython3",
   "version": "3.6.4"
  }
 },
 "nbformat": 4,
 "nbformat_minor": 2
}
