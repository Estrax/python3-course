{
 "cells": [
  {
   "cell_type": "markdown",
   "metadata": {},
   "source": [
    "# Introduction to programming using Python"
   ]
  },
  {
   "cell_type": "markdown",
   "metadata": {},
   "source": [
    "## Functions\n",
    "\n",
    "Now we are going to talk about the tools for consolidation of repeatable code, also called functions."
   ]
  },
  {
   "cell_type": "markdown",
   "metadata": {},
   "source": [
    "<br/><br/>"
   ]
  },
  {
   "cell_type": "code",
   "execution_count": null,
   "metadata": {
    "collapsed": true
   },
   "outputs": [],
   "source": [
    "1. Defining functions\n",
    "    2. Default argument values\n",
    "    3. Keyword arguments\n",
    "    4. Arbitrary argument lists\n",
    "    5. Lambdas\n",
    "    6. Docstrings\n",
    "    7. Function annotations"
   ]
  },
  {
   "cell_type": "markdown",
   "metadata": {},
   "source": [
    "## Defining functions\n",
    "\n",
    "The keyword **def** introduces a function definition. It must be followed by the function name and the parenthesized list of formal parameters. The statements that form the body of the function start at the next line, and must be indented."
   ]
  },
  {
   "cell_type": "markdown",
   "metadata": {},
   "source": [
    "The actual parameters (arguments) to a function call are introduced in the local symbol table (also named scope) of the called function when it is called; thus, arguments are passed using call by value (where the value is always an object reference, not the value of the object). When a function calls another function, a new local symbol table is created for that call."
   ]
  },
  {
   "cell_type": "code",
   "execution_count": null,
   "metadata": {},
   "outputs": [],
   "source": [
    "# Example\n",
    "\n",
    "def print_all_even(start, stop):\n",
    "    \"\"\"Here is the docstring for the function that can be used to generate the documentation.\"\"\"\n",
    "    for i in range(start, stop+1):\n",
    "        if i%2==0:\n",
    "            print(i)\n",
    "\n",
    "print(print_all_even.__doc__)"
   ]
  },
  {
   "cell_type": "code",
   "execution_count": null,
   "metadata": {},
   "outputs": [],
   "source": [
    "# Let's try to invoke our function\n",
    "print_all_even(0, 1)"
   ]
  },
  {
   "cell_type": "code",
   "execution_count": null,
   "metadata": {},
   "outputs": [],
   "source": [
    "# we can also try to assign the function to the symbolical name\n",
    "\n",
    "f = print_all_even\n",
    "\n",
    "print(f(5, 10))"
   ]
  },
  {
   "cell_type": "code",
   "execution_count": null,
   "metadata": {},
   "outputs": [],
   "source": [
    "# and the function already prints None at the end. Why? Because the function does not return anything.\n",
    "# let's try to refactor the code\n",
    "\n",
    "def print_all_even_refactored(start, stop):\n",
    "    \"\"\"Here is the docstring\n",
    "    and it can contain multiple lines\n",
    "    of documentation\"\"\"\n",
    "    result = []\n",
    "    for i in range(start, stop+1):\n",
    "        if i%2==0:\n",
    "            result.append(i)\n",
    "    return result\n",
    "\n",
    "print(print_all_even_refactored.__doc__)"
   ]
  },
  {
   "cell_type": "code",
   "execution_count": null,
   "metadata": {},
   "outputs": [],
   "source": [
    "# Let's check it now!\n",
    "print(print_all_even_refactored(5, 10))"
   ]
  },
  {
   "cell_type": "markdown",
   "metadata": {},
   "source": [
    "<br/><br/>"
   ]
  },
  {
   "cell_type": "markdown",
   "metadata": {},
   "source": [
    "## Default argument values\n",
    "\n",
    "It is useful to specify a default value for one or more arguments. This creates a function that can be called with fewer arguments than it is defined to allow."
   ]
  },
  {
   "cell_type": "code",
   "execution_count": null,
   "metadata": {},
   "outputs": [],
   "source": [
    "# Example:\n",
    "\n",
    "def return_numbers(start=0, stop=10):\n",
    "    \"\"\"this is the docstring\"\"\"\n",
    "    return list(range(start, stop))\n",
    "\n",
    "print(return_numbers(5))\n",
    "\n",
    "print(return_numbers(5, 20))"
   ]
  },
  {
   "cell_type": "code",
   "execution_count": null,
   "metadata": {},
   "outputs": [],
   "source": [
    "# The default values are evaluated at the point of function definition in the defining scope\n",
    "\n",
    "# let's see how following code will work:\n",
    "\n",
    "i = 0\n",
    "\n",
    "def function_a(argument = i):\n",
    "    print(argument)\n",
    "\n",
    "i = 3\n",
    "function_a() # it will print 0"
   ]
  },
  {
   "cell_type": "code",
   "execution_count": null,
   "metadata": {},
   "outputs": [],
   "source": [
    "# Important warning:\n",
    "# The default value is evaluated only once.\n",
    "# This makes a difference when the default is a mutable object\n",
    "# mutable objects are ones like a list, dictionary, or instances of most classes.\n",
    "\n",
    "def function(arg, container = []):\n",
    "    container.append(arg)\n",
    "    return container\n",
    "\n",
    "print(function(123))\n",
    "print(function(234))\n",
    "print(function(345))"
   ]
  },
  {
   "cell_type": "code",
   "execution_count": null,
   "metadata": {},
   "outputs": [],
   "source": [
    "# If you do not want the default to be shared between subsequent calls\n",
    "# you can write the function differently\n",
    "\n",
    "def function(arg, container = None):\n",
    "    if container is None:\n",
    "        container = []\n",
    "    container.append(arg)\n",
    "    return container\n",
    "\n",
    "print(function(123))\n",
    "print(function(234))\n",
    "print(function(345))"
   ]
  },
  {
   "cell_type": "code",
   "execution_count": null,
   "metadata": {},
   "outputs": [],
   "source": [
    "# arguments can be set up using the keywords of the form:\n",
    "# kwarg = value\n",
    "def my_func(num, state='this is the state', action='nothing really important there', item_type=123):\n",
    "    print(num)\n",
    "    print(state)\n",
    "    print(action)\n",
    "    print(item_type)\n",
    "    \n",
    "my_func(5)\n",
    "print(\"\\n--- and how it works now? ---\\n\")\n",
    "my_func(7, item_type=345, action=\"it is ok!\")"
   ]
  },
  {
   "cell_type": "code",
   "execution_count": null,
   "metadata": {
    "collapsed": true
   },
   "outputs": [],
   "source": [
    "# you can also use arguments list\n",
    "def func_with_args(*arguments, **keywords):\n",
    "    for arg in arguments:\n",
    "        print(arg)\n",
    "    print(\"-\" * 40)\n",
    "    for kw in keywords:\n",
    "        print(kw, \":\", keywords[kw])"
   ]
  },
  {
   "cell_type": "code",
   "execution_count": null,
   "metadata": {},
   "outputs": [],
   "source": [
    "func_with_args(\"first argument\", \"It's very funny, sir.\",\n",
    "           \"And it is the third one\",\n",
    "           param1=\"parameter 1\",\n",
    "           param2=\"parameter second\",\n",
    "           param3=\"3rd one\")"
   ]
  },
  {
   "cell_type": "markdown",
   "metadata": {},
   "source": [
    "<br/><br/>"
   ]
  },
  {
   "cell_type": "markdown",
   "metadata": {},
   "source": [
    "## Lambda expressions\n",
    "\n",
    "Lambda expressions are small anonymous functions that can be created with the lambda keyword.\n",
    "\n",
    "Lambda functions can be used wherever function objects are required.\n",
    "\n",
    "They are syntactically restricted to a single expression. Semantically, they are just syntactic sugar for a normal function definition. Like nested function definitions, lambda functions can reference variables from the containing scope."
   ]
  },
  {
   "cell_type": "code",
   "execution_count": null,
   "metadata": {},
   "outputs": [],
   "source": [
    "# Example:\n",
    "\n",
    "def incrementor(n):\n",
    "    return lambda x: x+n\n",
    "\n",
    "f = incrementor(91)\n",
    "print(f(5))\n",
    "print(f(1))"
   ]
  },
  {
   "cell_type": "markdown",
   "metadata": {},
   "source": [
    "**Excercise:** write a function that takes a list of numbers and returns the list of squares of those numbers."
   ]
  },
  {
   "cell_type": "code",
   "execution_count": null,
   "metadata": {
    "collapsed": true
   },
   "outputs": [],
   "source": [
    "# Here comes the code\n"
   ]
  },
  {
   "cell_type": "markdown",
   "metadata": {},
   "source": [
    "**Excercise:** write a function that takes many arguments - lengths of any polygon sides - and returns the perimeter of the polygon."
   ]
  },
  {
   "cell_type": "code",
   "execution_count": null,
   "metadata": {
    "collapsed": true
   },
   "outputs": [],
   "source": [
    "# Here comes the code\n"
   ]
  },
  {
   "cell_type": "markdown",
   "metadata": {},
   "source": [
    "**Excercise:** write a function that takes an arbitrary number of lists, concatenates them and returns the one list."
   ]
  },
  {
   "cell_type": "code",
   "execution_count": null,
   "metadata": {
    "collapsed": true
   },
   "outputs": [],
   "source": [
    "# Here comes the code\n",
    "\n",
    "def my_func(*args):\n",
    "    for arg in args:\n",
    "        \n"
   ]
  }
 ],
 "metadata": {
  "kernelspec": {
   "display_name": "Python 2",
   "language": "python",
   "name": "python2"
  },
  "language_info": {
   "codemirror_mode": {
    "name": "ipython",
    "version": 2
   },
   "file_extension": ".py",
   "mimetype": "text/x-python",
   "name": "python",
   "nbconvert_exporter": "python",
   "pygments_lexer": "ipython2",
   "version": "2.7.14"
  }
 },
 "nbformat": 4,
 "nbformat_minor": 2
}
