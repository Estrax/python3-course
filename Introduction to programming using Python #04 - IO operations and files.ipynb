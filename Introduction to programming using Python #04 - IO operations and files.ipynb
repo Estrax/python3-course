{
 "cells": [
  {
   "cell_type": "markdown",
   "metadata": {},
   "source": [
    "# Introduction to programming using Python"
   ]
  },
  {
   "cell_type": "markdown",
   "metadata": {},
   "source": [
    "## Input and output operations, files"
   ]
  },
  {
   "cell_type": "markdown",
   "metadata": {},
   "source": [
    "It would be great if we can pack the whole code and possible cases into the one file, without reducing the readability. In most of the cases, it is much easier to split code into files and perform input and output operations."
   ]
  },
  {
   "cell_type": "markdown",
   "metadata": {},
   "source": [
    "## Keyboard input"
   ]
  },
  {
   "cell_type": "markdown",
   "metadata": {},
   "source": [
    "There may be hard to write some programs that are not processing any input. Input can come in various ways - from the database, from another computer, from mouse clicks and movements, or even from the internet or keyboard. For getting the input from the keyboard, Python provides the function **input()** that has an optional parameter, that is the prompt string."
   ]
  },
  {
   "cell_type": "markdown",
   "metadata": {},
   "source": [
    "The input from the keyboard will be returned as a string and without any changes. If the input needs to be transformed to the different data type, you can use a casting function or the eval function."
   ]
  },
  {
   "cell_type": "code",
   "execution_count": null,
   "metadata": {},
   "outputs": [],
   "source": [
    "# Example:\n",
    "\n",
    "age = input(\"How old are you? \")\n",
    "\n",
    "print(\"You are {} years old!\".format(age))"
   ]
  },
  {
   "cell_type": "markdown",
   "metadata": {},
   "source": [
    "## Different ways to take an input and output\n",
    "\n",
    "Other than using the input methods line **input()** and output methods like **print()**, you can use one of the three system streams to get the input and write the output.\n",
    "\n",
    "The system streams:\n",
    "- stderr - standard error output\n",
    "- stdin - standard input\n",
    "- stdout - standard output"
   ]
  },
  {
   "cell_type": "markdown",
   "metadata": {},
   "source": [
    "You can use them, but first you need to import a module called sys (more about modules during the \"Modules\" lecture). You can do it this way:"
   ]
  },
  {
   "cell_type": "code",
   "execution_count": null,
   "metadata": {
    "collapsed": true
   },
   "outputs": [],
   "source": [
    "import sys"
   ]
  },
  {
   "cell_type": "markdown",
   "metadata": {},
   "source": [
    "Now you can use the methods implemented in the sys module. How to check what is included there?"
   ]
  },
  {
   "cell_type": "code",
   "execution_count": null,
   "metadata": {},
   "outputs": [],
   "source": [
    "print(dir(sys))"
   ]
  },
  {
   "cell_type": "markdown",
   "metadata": {},
   "source": [
    "Let's check how we can read and write data using those streams."
   ]
  },
  {
   "cell_type": "markdown",
   "metadata": {},
   "source": [
    "First of the things you need to know is that all those streams are file-like objects. Callit its write function is going to print out the string you give it. As you may know, this is what the print function really does. It adds the carriage return to the end of the string you print and calls sys.stdout.write command."
   ]
  },
  {
   "cell_type": "code",
   "execution_count": null,
   "metadata": {},
   "outputs": [],
   "source": [
    "# Let's check if we can print something to stderr and stdout!\n",
    "\n",
    "sys.stdout.write(\"This is my output\")\n",
    "sys.stderr.write(\"This is my error output\")"
   ]
  },
  {
   "cell_type": "code",
   "execution_count": null,
   "metadata": {},
   "outputs": [],
   "source": [
    "# Example:\n",
    "\n",
    "print(\"This message will be displayed\")\n",
    "\n",
    "saveout = sys.stdout\n",
    "fsock = open('out.log', 'w')\n",
    "sys.stdout = fsock\n",
    "print(\"this message will be logged instead of displayed\")\n",
    "sys.stdout = saveout\n",
    "fsock.close()"
   ]
  },
  {
   "cell_type": "code",
   "execution_count": null,
   "metadata": {},
   "outputs": [],
   "source": [
    "# You can also use print options to redirect the output\n",
    "print(\"this will be an error\", file=sys.stderr)"
   ]
  },
  {
   "cell_type": "code",
   "execution_count": null,
   "metadata": {},
   "outputs": [],
   "source": [
    "# and now read the file out.log\n",
    "# you can use with statement\n",
    "\n",
    "with open('out.log', 'r') as f:\n",
    "    for line in f:\n",
    "        print(line)\n",
    "\n",
    "# let's check whether the file is closed\n",
    "print(\"The file is closed: {}\".format(f.closed))"
   ]
  },
  {
   "cell_type": "markdown",
   "metadata": {},
   "source": [
    "The with statement simplifies the error handling."
   ]
  },
  {
   "cell_type": "markdown",
   "metadata": {},
   "source": [
    "There are few options when working with files.\n",
    "\n",
    "The first argument is a string containing the filename.\n",
    "\n",
    "The second argument is another string containing a few characters describing the way in which the file will be used.\n",
    "\n",
    "The **mode** can be:\n",
    "- 'r' when the file will be read-only,\n",
    "- 'w' for only writing (an existing file with the same name will be erased),\n",
    "- 'a' for appending; any data written to the file is automatically added to the end,\n",
    "- 'r+' for both reading and writing.\n",
    "\n",
    "The mode argument is optional; 'r' will be assumed when omitted."
   ]
  },
  {
   "cell_type": "code",
   "execution_count": null,
   "metadata": {},
   "outputs": [],
   "source": [
    "# Example:\n",
    "\n",
    "# first, we open file to write\n",
    "f = open('out.log', 'w')\n",
    "for i in range(20):\n",
    "    f.write(str(i)+str(\"\\n\"))\n",
    "\n",
    "f.close()\n",
    "# remember to close the file after making operations! It preserves the memory from inconsistence\n",
    "# and also some of the parts of writing operations are being finished\n",
    "\n",
    "# and then we open it to read\n",
    "f = open('out.log', 'r')\n",
    "\n",
    "for line in f:\n",
    "    print(line, end=\"\")\n",
    "\n",
    "f.close()"
   ]
  },
  {
   "cell_type": "markdown",
   "metadata": {},
   "source": [
    "<br/><br/>"
   ]
  },
  {
   "cell_type": "markdown",
   "metadata": {},
   "source": [
    "## Check existence of file\n",
    "\n",
    "You can check whether the file exists using the **isfile()** command included in the os.path module."
   ]
  },
  {
   "cell_type": "code",
   "execution_count": null,
   "metadata": {},
   "outputs": [],
   "source": [
    "# Example:\n",
    "import os.path\n",
    "print(os.path.isfile(\"out.log\"))\n",
    "\n",
    "# you can also check it this way:\n",
    "print(os.path.exists(\"out.log\")) # this method returns true for both files and directories"
   ]
  },
  {
   "cell_type": "markdown",
   "metadata": {},
   "source": [
    "<br/><br/>"
   ]
  },
  {
   "cell_type": "markdown",
   "metadata": {},
   "source": [
    "## Delete the file\n",
    "\n",
    "You can also delete files using for example os.remove() command."
   ]
  },
  {
   "cell_type": "code",
   "execution_count": null,
   "metadata": {},
   "outputs": [],
   "source": [
    "# Example\n",
    "\n",
    "import os\n",
    "if(os.path.isfile(\"out.log\")):\n",
    "    os.remove(\"out.log\")\n",
    "    print(\"File removed\")"
   ]
  },
  {
   "cell_type": "code",
   "execution_count": null,
   "metadata": {
    "collapsed": true
   },
   "outputs": [],
   "source": [
    "# to delete directories you can use os.rmdir() command"
   ]
  },
  {
   "cell_type": "markdown",
   "metadata": {},
   "source": [
    "<br/><br/>"
   ]
  },
  {
   "cell_type": "markdown",
   "metadata": {},
   "source": [
    "## More operations on file objects"
   ]
  },
  {
   "cell_type": "code",
   "execution_count": null,
   "metadata": {
    "collapsed": true
   },
   "outputs": [],
   "source": [
    "# first of all, make sure the file we are going to work on is created\n",
    "f = open('my_file.txt', \"w\")\n",
    "f.write(\"this is the text\\n\")\n",
    "f.close()\n",
    "# if you do not close the file, the output is going to be the number of bytes saved"
   ]
  },
  {
   "cell_type": "code",
   "execution_count": null,
   "metadata": {},
   "outputs": [],
   "source": [
    "# to read file content, call f.read(size) that reads the number of bytes from file\n",
    "# and returns it as a string or bytes object.\n",
    "# when size is omitted or negative, the entire content of the file\n",
    "# will be read and returned\n",
    "\n",
    "# if the end of the file has been reached, f.read() will return an empty string ('').\n",
    "f = open('my_file.txt', 'r')\n",
    "print(f.read(4))\n",
    "print(f.read())\n",
    "\n",
    "f.close()"
   ]
  },
  {
   "cell_type": "code",
   "execution_count": null,
   "metadata": {},
   "outputs": [],
   "source": [
    "# you can also read line by line\n",
    "f = open('my_file.txt', 'r')\n",
    "print(f.readline())\n",
    "print(f.readline())\n",
    "print(f.tell())\n",
    "# tell() returns an integer giving the file object's current position\n",
    "# in the file represented as number of bytes from the beginning of the file\n",
    "# when in binary mode and an opaque number when in text mode.\n",
    "f.close()"
   ]
  },
  {
   "cell_type": "markdown",
   "metadata": {},
   "source": [
    "To change the file object's position, use **f.seek(offset, from_what)**.\n",
    "\n",
    "The position is computed from adding offset to a reference point.\n",
    "\n",
    "The reference point is selected by the from_what argument.\n",
    "\n",
    "A from_what value of 0 measures from the beginning of the file, 1 uses the current file position, and 2 uses the end of the file as the reference point.\n",
    "\n",
    "from_what can be omitted and defaults to 0, using the beginning of the file as the reference point."
   ]
  },
  {
   "cell_type": "code",
   "execution_count": null,
   "metadata": {},
   "outputs": [],
   "source": [
    "f = open('my_file.txt', 'rb+')\n",
    "f.write(b'123abc456')\n",
    "f.seek(5) # go to the 6th byte in the file, starting from the beginning\n",
    "print(f.read(1))\n",
    "f.seek(-6, 2) # go to the 5th byte before the end\n",
    "print(f.read(2)) # print 2 characters\n",
    "f.seek(2, 1) # go 2 characters forward, starting from the current place\n",
    "print(f.read(1))\n",
    "\n",
    "f.close()"
   ]
  },
  {
   "cell_type": "markdown",
   "metadata": {},
   "source": [
    "<br/><br/>"
   ]
  },
  {
   "cell_type": "markdown",
   "metadata": {},
   "source": [
    "## Command line arguments\n",
    "\n",
    "sys.argv is a list in Python, which contains the command-line arguments passed to the script. To use sys.argv, you will first have to import the sys module."
   ]
  },
  {
   "cell_type": "code",
   "execution_count": null,
   "metadata": {},
   "outputs": [],
   "source": [
    "# Example:\n",
    "import sys\n",
    "\n",
    "print(\"This is the name of the script: {}\".format(sys.argv[0]))\n",
    "print(\"This is the number of arguments: {}\".format(len(sys.argv)))\n",
    "print(\"The arguments are: {}\".format(str(sys.argv)))"
   ]
  },
  {
   "cell_type": "markdown",
   "metadata": {},
   "source": [
    "<br/><br/>"
   ]
  },
  {
   "cell_type": "markdown",
   "metadata": {},
   "source": [
    "**Excercise:** write two functions:\n",
    "\n",
    "The first function should create two files and write some data to them. The first file should contain the numbers from 0 to 9, the second one should contain the numbers from 10 to 20 (inclusively).\n",
    "\n",
    "The second function should take two strings - paths to the files. The function should read data from files and print the results in a given order:\n",
    "1. even numbers from both files\n",
    "2. odd numbers from both files\n",
    "\n",
    "You should not close the file (or open it more than once) during the second function execution."
   ]
  },
  {
   "cell_type": "code",
   "execution_count": null,
   "metadata": {
    "collapsed": true
   },
   "outputs": [],
   "source": [
    "# Here comes the code\n"
   ]
  }
 ],
 "metadata": {
  "kernelspec": {
   "display_name": "Python 3",
   "language": "python",
   "name": "python3"
  },
  "language_info": {
   "codemirror_mode": {
    "name": "ipython",
    "version": 3
   },
   "file_extension": ".py",
   "mimetype": "text/x-python",
   "name": "python",
   "nbconvert_exporter": "python",
   "pygments_lexer": "ipython3",
   "version": "3.6.4"
  }
 },
 "nbformat": 4,
 "nbformat_minor": 2
}
